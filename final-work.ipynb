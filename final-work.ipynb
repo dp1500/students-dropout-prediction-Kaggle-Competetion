{
 "cells": [
  {
   "cell_type": "code",
   "execution_count": 1,
   "id": "a05e675f",
   "metadata": {
    "_cell_guid": "b1076dfc-b9ad-4769-8c92-a6c4dae69d19",
    "_uuid": "8f2839f25d086af736a60e9eeb907d3b93b6e0e5",
    "execution": {
     "iopub.execute_input": "2022-09-02T04:18:24.515452Z",
     "iopub.status.busy": "2022-09-02T04:18:24.514581Z",
     "iopub.status.idle": "2022-09-02T04:18:25.670128Z",
     "shell.execute_reply": "2022-09-02T04:18:25.668726Z"
    },
    "papermill": {
     "duration": 1.191623,
     "end_time": "2022-09-02T04:18:25.673376",
     "exception": false,
     "start_time": "2022-09-02T04:18:24.481753",
     "status": "completed"
    },
    "tags": []
   },
   "outputs": [
    {
     "name": "stdout",
     "output_type": "stream",
     "text": [
      "/kaggle/input/students-drop-out-prediction/train.csv\n",
      "/kaggle/input/students-drop-out-prediction/test.csv\n"
     ]
    }
   ],
   "source": [
    "# This Python 3 environment comes with many helpful analytics libraries installed\n",
    "# It is defined by the kaggle/python Docker image: https://github.com/kaggle/docker-python\n",
    "# For example, here's several helpful packages to load\n",
    "\n",
    "import numpy as np # linear algebra\n",
    "import pandas as pd # data processing, CSV file I/O (e.g. pd.read_csv)\n",
    "\n",
    "# Input data files are available in the read-only \"../input/\" directory\n",
    "# For example, running this (by clicking run or pressing Shift+Enter) will list all files under the input directory\n",
    "\n",
    "import os\n",
    "for dirname, _, filenames in os.walk('/kaggle/input'):\n",
    "    for filename in filenames:\n",
    "        print(os.path.join(dirname, filename))\n",
    "\n",
    "# You can write up to 20GB to the current directory (/kaggle/working/) that gets preserved as output when you create a version using \"Save & Run All\" \n",
    "# You can also write temporary files to /kaggle/temp/, but they won't be saved outside of the current session\n",
    "\n",
    "\n",
    "from sklearn.metrics import accuracy_score\n",
    "from sklearn.metrics import precision_score\n",
    "from sklearn.metrics import recall_score\n",
    "from sklearn.metrics import f1_score\n",
    "from matplotlib import pyplot as plt"
   ]
  },
  {
   "cell_type": "code",
   "execution_count": 2,
   "id": "2d496bf9",
   "metadata": {
    "execution": {
     "iopub.execute_input": "2022-09-02T04:18:25.728583Z",
     "iopub.status.busy": "2022-09-02T04:18:25.727733Z",
     "iopub.status.idle": "2022-09-02T04:18:25.796645Z",
     "shell.execute_reply": "2022-09-02T04:18:25.795466Z"
    },
    "papermill": {
     "duration": 0.099142,
     "end_time": "2022-09-02T04:18:25.799135",
     "exception": false,
     "start_time": "2022-09-02T04:18:25.699993",
     "status": "completed"
    },
    "tags": []
   },
   "outputs": [
    {
     "data": {
      "text/html": [
       "<div>\n",
       "<style scoped>\n",
       "    .dataframe tbody tr th:only-of-type {\n",
       "        vertical-align: middle;\n",
       "    }\n",
       "\n",
       "    .dataframe tbody tr th {\n",
       "        vertical-align: top;\n",
       "    }\n",
       "\n",
       "    .dataframe thead th {\n",
       "        text-align: right;\n",
       "    }\n",
       "</style>\n",
       "<table border=\"1\" class=\"dataframe\">\n",
       "  <thead>\n",
       "    <tr style=\"text-align: right;\">\n",
       "      <th></th>\n",
       "      <th>id</th>\n",
       "      <th>v_21</th>\n",
       "      <th>v_32</th>\n",
       "      <th>v_15</th>\n",
       "      <th>v_4</th>\n",
       "      <th>v_1</th>\n",
       "      <th>v_8</th>\n",
       "      <th>v_12</th>\n",
       "      <th>v_25</th>\n",
       "      <th>v_20</th>\n",
       "      <th>...</th>\n",
       "      <th>v_2</th>\n",
       "      <th>v_16</th>\n",
       "      <th>v_34</th>\n",
       "      <th>v_35</th>\n",
       "      <th>v_36</th>\n",
       "      <th>v_37</th>\n",
       "      <th>v_38</th>\n",
       "      <th>v_39</th>\n",
       "      <th>v_40</th>\n",
       "      <th>label</th>\n",
       "    </tr>\n",
       "  </thead>\n",
       "  <tbody>\n",
       "    <tr>\n",
       "      <th>0</th>\n",
       "      <td>0</td>\n",
       "      <td>3</td>\n",
       "      <td>6</td>\n",
       "      <td>11</td>\n",
       "      <td>55</td>\n",
       "      <td>1</td>\n",
       "      <td>1</td>\n",
       "      <td>16</td>\n",
       "      <td>5</td>\n",
       "      <td>60</td>\n",
       "      <td>...</td>\n",
       "      <td>-0.3</td>\n",
       "      <td>0.79</td>\n",
       "      <td>1</td>\n",
       "      <td>93</td>\n",
       "      <td>47</td>\n",
       "      <td>1</td>\n",
       "      <td>48</td>\n",
       "      <td>26</td>\n",
       "      <td>0</td>\n",
       "      <td>1</td>\n",
       "    </tr>\n",
       "    <tr>\n",
       "      <th>1</th>\n",
       "      <td>1</td>\n",
       "      <td>8</td>\n",
       "      <td>94</td>\n",
       "      <td>12</td>\n",
       "      <td>65</td>\n",
       "      <td>1</td>\n",
       "      <td>4</td>\n",
       "      <td>22</td>\n",
       "      <td>4</td>\n",
       "      <td>173</td>\n",
       "      <td>...</td>\n",
       "      <td>5.4</td>\n",
       "      <td>6.51</td>\n",
       "      <td>6</td>\n",
       "      <td>29</td>\n",
       "      <td>37</td>\n",
       "      <td>25</td>\n",
       "      <td>53</td>\n",
       "      <td>35</td>\n",
       "      <td>7</td>\n",
       "      <td>2</td>\n",
       "    </tr>\n",
       "    <tr>\n",
       "      <th>2</th>\n",
       "      <td>2</td>\n",
       "      <td>3</td>\n",
       "      <td>166</td>\n",
       "      <td>10</td>\n",
       "      <td>155</td>\n",
       "      <td>1</td>\n",
       "      <td>1</td>\n",
       "      <td>16</td>\n",
       "      <td>1</td>\n",
       "      <td>309</td>\n",
       "      <td>...</td>\n",
       "      <td>0.6</td>\n",
       "      <td>2.02</td>\n",
       "      <td>1</td>\n",
       "      <td>8</td>\n",
       "      <td>34</td>\n",
       "      <td>4</td>\n",
       "      <td>43</td>\n",
       "      <td>38</td>\n",
       "      <td>2</td>\n",
       "      <td>1</td>\n",
       "    </tr>\n",
       "    <tr>\n",
       "      <th>3</th>\n",
       "      <td>3</td>\n",
       "      <td>3</td>\n",
       "      <td>6</td>\n",
       "      <td>13</td>\n",
       "      <td>121</td>\n",
       "      <td>1</td>\n",
       "      <td>1</td>\n",
       "      <td>16</td>\n",
       "      <td>1</td>\n",
       "      <td>6</td>\n",
       "      <td>...</td>\n",
       "      <td>0.6</td>\n",
       "      <td>2.02</td>\n",
       "      <td>7</td>\n",
       "      <td>37</td>\n",
       "      <td>40</td>\n",
       "      <td>27</td>\n",
       "      <td>43</td>\n",
       "      <td>65</td>\n",
       "      <td>0</td>\n",
       "      <td>1</td>\n",
       "    </tr>\n",
       "    <tr>\n",
       "      <th>4</th>\n",
       "      <td>4</td>\n",
       "      <td>4</td>\n",
       "      <td>51</td>\n",
       "      <td>18</td>\n",
       "      <td>21</td>\n",
       "      <td>1</td>\n",
       "      <td>17</td>\n",
       "      <td>22</td>\n",
       "      <td>118</td>\n",
       "      <td>168</td>\n",
       "      <td>...</td>\n",
       "      <td>8.4</td>\n",
       "      <td>12.51</td>\n",
       "      <td>16</td>\n",
       "      <td>22</td>\n",
       "      <td>25</td>\n",
       "      <td>25</td>\n",
       "      <td>24</td>\n",
       "      <td>23</td>\n",
       "      <td>1</td>\n",
       "      <td>1</td>\n",
       "    </tr>\n",
       "  </tbody>\n",
       "</table>\n",
       "<p>5 rows × 43 columns</p>\n",
       "</div>"
      ],
      "text/plain": [
       "   id  v_21  v_32  v_15  v_4  v_1  v_8  v_12  v_25  v_20  ...  v_2   v_16  \\\n",
       "0   0     3     6    11   55    1    1    16     5    60  ... -0.3   0.79   \n",
       "1   1     8    94    12   65    1    4    22     4   173  ...  5.4   6.51   \n",
       "2   2     3   166    10  155    1    1    16     1   309  ...  0.6   2.02   \n",
       "3   3     3     6    13  121    1    1    16     1     6  ...  0.6   2.02   \n",
       "4   4     4    51    18   21    1   17    22   118   168  ...  8.4  12.51   \n",
       "\n",
       "   v_34  v_35  v_36  v_37  v_38  v_39  v_40  label  \n",
       "0     1    93    47     1    48    26     0      1  \n",
       "1     6    29    37    25    53    35     7      2  \n",
       "2     1     8    34     4    43    38     2      1  \n",
       "3     7    37    40    27    43    65     0      1  \n",
       "4    16    22    25    25    24    23     1      1  \n",
       "\n",
       "[5 rows x 43 columns]"
      ]
     },
     "execution_count": 2,
     "metadata": {},
     "output_type": "execute_result"
    }
   ],
   "source": [
    "data = pd.read_csv('../input/students-drop-out-prediction/train.csv')\n",
    "df = data\n",
    "data.head()"
   ]
  },
  {
   "cell_type": "code",
   "execution_count": 3,
   "id": "a975c8dd",
   "metadata": {
    "execution": {
     "iopub.execute_input": "2022-09-02T04:18:25.855189Z",
     "iopub.status.busy": "2022-09-02T04:18:25.854775Z",
     "iopub.status.idle": "2022-09-02T04:18:25.859156Z",
     "shell.execute_reply": "2022-09-02T04:18:25.858336Z"
    },
    "papermill": {
     "duration": 0.034412,
     "end_time": "2022-09-02T04:18:25.860979",
     "exception": false,
     "start_time": "2022-09-02T04:18:25.826567",
     "status": "completed"
    },
    "tags": []
   },
   "outputs": [],
   "source": [
    "# data.describe()"
   ]
  },
  {
   "cell_type": "code",
   "execution_count": 4,
   "id": "b4ba80bd",
   "metadata": {
    "execution": {
     "iopub.execute_input": "2022-09-02T04:18:25.917471Z",
     "iopub.status.busy": "2022-09-02T04:18:25.917027Z",
     "iopub.status.idle": "2022-09-02T04:18:25.921507Z",
     "shell.execute_reply": "2022-09-02T04:18:25.920398Z"
    },
    "papermill": {
     "duration": 0.035925,
     "end_time": "2022-09-02T04:18:25.924229",
     "exception": false,
     "start_time": "2022-09-02T04:18:25.888304",
     "status": "completed"
    },
    "tags": []
   },
   "outputs": [],
   "source": [
    "# data['label']"
   ]
  },
  {
   "cell_type": "code",
   "execution_count": 5,
   "id": "bd9a87f8",
   "metadata": {
    "execution": {
     "iopub.execute_input": "2022-09-02T04:18:25.979195Z",
     "iopub.status.busy": "2022-09-02T04:18:25.978670Z",
     "iopub.status.idle": "2022-09-02T04:18:25.983534Z",
     "shell.execute_reply": "2022-09-02T04:18:25.982511Z"
    },
    "papermill": {
     "duration": 0.035256,
     "end_time": "2022-09-02T04:18:25.986106",
     "exception": false,
     "start_time": "2022-09-02T04:18:25.950850",
     "status": "completed"
    },
    "tags": []
   },
   "outputs": [],
   "source": [
    "# data['label'].hist()"
   ]
  },
  {
   "cell_type": "code",
   "execution_count": 6,
   "id": "8ace46d1",
   "metadata": {
    "execution": {
     "iopub.execute_input": "2022-09-02T04:18:26.041025Z",
     "iopub.status.busy": "2022-09-02T04:18:26.040603Z",
     "iopub.status.idle": "2022-09-02T04:18:26.045649Z",
     "shell.execute_reply": "2022-09-02T04:18:26.044474Z"
    },
    "papermill": {
     "duration": 0.035531,
     "end_time": "2022-09-02T04:18:26.048076",
     "exception": false,
     "start_time": "2022-09-02T04:18:26.012545",
     "status": "completed"
    },
    "tags": []
   },
   "outputs": [],
   "source": [
    "# columns = (data.columns).tolist()"
   ]
  },
  {
   "cell_type": "code",
   "execution_count": 7,
   "id": "c67b2a13",
   "metadata": {
    "execution": {
     "iopub.execute_input": "2022-09-02T04:18:26.103067Z",
     "iopub.status.busy": "2022-09-02T04:18:26.102212Z",
     "iopub.status.idle": "2022-09-02T04:18:26.106979Z",
     "shell.execute_reply": "2022-09-02T04:18:26.105914Z"
    },
    "papermill": {
     "duration": 0.034302,
     "end_time": "2022-09-02T04:18:26.109159",
     "exception": false,
     "start_time": "2022-09-02T04:18:26.074857",
     "status": "completed"
    },
    "tags": []
   },
   "outputs": [],
   "source": [
    "# len(columns)"
   ]
  },
  {
   "cell_type": "code",
   "execution_count": 8,
   "id": "afdfc11e",
   "metadata": {
    "execution": {
     "iopub.execute_input": "2022-09-02T04:18:26.164173Z",
     "iopub.status.busy": "2022-09-02T04:18:26.163721Z",
     "iopub.status.idle": "2022-09-02T04:18:26.168400Z",
     "shell.execute_reply": "2022-09-02T04:18:26.167324Z"
    },
    "papermill": {
     "duration": 0.034706,
     "end_time": "2022-09-02T04:18:26.170651",
     "exception": false,
     "start_time": "2022-09-02T04:18:26.135945",
     "status": "completed"
    },
    "tags": []
   },
   "outputs": [],
   "source": [
    "# nonBinaryCols = []\n",
    "# BinaryCols = []\n",
    "\n",
    "# for x in columns:\n",
    "# #     print(x)\n",
    "# #     print(df[x].unique())\n",
    "# #     print()\n",
    "#     if len(df[x].unique()) > 2:\n",
    "#         nonBinaryCols.append(x)\n",
    "#     else:\n",
    "#         BinaryCols.append(x)\n",
    "#     print()\n",
    "# print(nonBinaryCols)\n",
    "# print(BinaryCols)"
   ]
  },
  {
   "cell_type": "markdown",
   "id": "96b7f031",
   "metadata": {
    "papermill": {
     "duration": 0.026717,
     "end_time": "2022-09-02T04:18:26.224150",
     "exception": false,
     "start_time": "2022-09-02T04:18:26.197433",
     "status": "completed"
    },
    "tags": []
   },
   "source": []
  },
  {
   "cell_type": "code",
   "execution_count": 9,
   "id": "194552da",
   "metadata": {
    "execution": {
     "iopub.execute_input": "2022-09-02T04:18:26.280358Z",
     "iopub.status.busy": "2022-09-02T04:18:26.279963Z",
     "iopub.status.idle": "2022-09-02T04:18:26.283709Z",
     "shell.execute_reply": "2022-09-02T04:18:26.282843Z"
    },
    "papermill": {
     "duration": 0.034298,
     "end_time": "2022-09-02T04:18:26.285766",
     "exception": false,
     "start_time": "2022-09-02T04:18:26.251468",
     "status": "completed"
    },
    "tags": []
   },
   "outputs": [],
   "source": [
    "# nonBinaryCols.remove('id')\n",
    "# nonBinaryCols.remove('label')"
   ]
  },
  {
   "cell_type": "code",
   "execution_count": 10,
   "id": "3af4325f",
   "metadata": {
    "execution": {
     "iopub.execute_input": "2022-09-02T04:18:26.340671Z",
     "iopub.status.busy": "2022-09-02T04:18:26.340226Z",
     "iopub.status.idle": "2022-09-02T04:18:26.345190Z",
     "shell.execute_reply": "2022-09-02T04:18:26.343915Z"
    },
    "papermill": {
     "duration": 0.034982,
     "end_time": "2022-09-02T04:18:26.347787",
     "exception": false,
     "start_time": "2022-09-02T04:18:26.312805",
     "status": "completed"
    },
    "tags": []
   },
   "outputs": [],
   "source": [
    "# len(nonBinaryCols)"
   ]
  },
  {
   "cell_type": "markdown",
   "id": "68cf15a7",
   "metadata": {
    "papermill": {
     "duration": 0.02578,
     "end_time": "2022-09-02T04:18:26.399830",
     "exception": false,
     "start_time": "2022-09-02T04:18:26.374050",
     "status": "completed"
    },
    "tags": []
   },
   "source": [
    "## checking for class imbalance"
   ]
  },
  {
   "cell_type": "code",
   "execution_count": 11,
   "id": "0eacb66f",
   "metadata": {
    "execution": {
     "iopub.execute_input": "2022-09-02T04:18:26.454307Z",
     "iopub.status.busy": "2022-09-02T04:18:26.453797Z",
     "iopub.status.idle": "2022-09-02T04:18:26.459151Z",
     "shell.execute_reply": "2022-09-02T04:18:26.457675Z"
    },
    "papermill": {
     "duration": 0.035506,
     "end_time": "2022-09-02T04:18:26.461667",
     "exception": false,
     "start_time": "2022-09-02T04:18:26.426161",
     "status": "completed"
    },
    "tags": []
   },
   "outputs": [],
   "source": [
    "# # for x in BinaryCols:\n",
    "# #     print(data['x'].value_counts)\n",
    "\n",
    "# testSet = data[BinaryCols]\n",
    "\n",
    "# testSet.apply(pd.value_counts)"
   ]
  },
  {
   "cell_type": "code",
   "execution_count": 12,
   "id": "95ca73bb",
   "metadata": {
    "execution": {
     "iopub.execute_input": "2022-09-02T04:18:26.516233Z",
     "iopub.status.busy": "2022-09-02T04:18:26.515195Z",
     "iopub.status.idle": "2022-09-02T04:18:26.519626Z",
     "shell.execute_reply": "2022-09-02T04:18:26.518834Z"
    },
    "papermill": {
     "duration": 0.034101,
     "end_time": "2022-09-02T04:18:26.522038",
     "exception": false,
     "start_time": "2022-09-02T04:18:26.487937",
     "status": "completed"
    },
    "tags": []
   },
   "outputs": [],
   "source": [
    "# testSet.hist()"
   ]
  },
  {
   "cell_type": "code",
   "execution_count": 13,
   "id": "416dbc8c",
   "metadata": {
    "execution": {
     "iopub.execute_input": "2022-09-02T04:18:26.576717Z",
     "iopub.status.busy": "2022-09-02T04:18:26.576302Z",
     "iopub.status.idle": "2022-09-02T04:18:26.580908Z",
     "shell.execute_reply": "2022-09-02T04:18:26.579853Z"
    },
    "papermill": {
     "duration": 0.034258,
     "end_time": "2022-09-02T04:18:26.582977",
     "exception": false,
     "start_time": "2022-09-02T04:18:26.548719",
     "status": "completed"
    },
    "tags": []
   },
   "outputs": [],
   "source": [
    "# df['label'].value_counts()"
   ]
  },
  {
   "cell_type": "markdown",
   "id": "592f978b",
   "metadata": {
    "papermill": {
     "duration": 0.026018,
     "end_time": "2022-09-02T04:18:26.635605",
     "exception": false,
     "start_time": "2022-09-02T04:18:26.609587",
     "status": "completed"
    },
    "tags": []
   },
   "source": [
    "## **DEALING WITH OUTLIERS**"
   ]
  },
  {
   "cell_type": "code",
   "execution_count": 14,
   "id": "622e0376",
   "metadata": {
    "execution": {
     "iopub.execute_input": "2022-09-02T04:18:26.690624Z",
     "iopub.status.busy": "2022-09-02T04:18:26.690045Z",
     "iopub.status.idle": "2022-09-02T04:18:26.694302Z",
     "shell.execute_reply": "2022-09-02T04:18:26.693430Z"
    },
    "papermill": {
     "duration": 0.034462,
     "end_time": "2022-09-02T04:18:26.696406",
     "exception": false,
     "start_time": "2022-09-02T04:18:26.661944",
     "status": "completed"
    },
    "tags": []
   },
   "outputs": [],
   "source": [
    "\n",
    "# df1 = df\n",
    "# col = list(df1.drop('label',axis=1).columns)\n",
    "# for i in col:\n",
    "#     y = df[i]\n",
    "#     removed_outliers = y.between(y.quantile(.001), y.quantile(.999))\n",
    "#     index_names = df[~removed_outliers].index \n",
    "#     df.drop(index_names, inplace=True)"
   ]
  },
  {
   "cell_type": "code",
   "execution_count": 15,
   "id": "81bb6430",
   "metadata": {
    "execution": {
     "iopub.execute_input": "2022-09-02T04:18:26.752491Z",
     "iopub.status.busy": "2022-09-02T04:18:26.752078Z",
     "iopub.status.idle": "2022-09-02T04:18:26.756273Z",
     "shell.execute_reply": "2022-09-02T04:18:26.755144Z"
    },
    "papermill": {
     "duration": 0.034595,
     "end_time": "2022-09-02T04:18:26.758477",
     "exception": false,
     "start_time": "2022-09-02T04:18:26.723882",
     "status": "completed"
    },
    "tags": []
   },
   "outputs": [],
   "source": [
    "# feature_names = df.columns.tolist()\n",
    "# for column in feature_names:\n",
    "#     print(column)\n",
    "#     print(df[column].value_counts(dropna=False))"
   ]
  },
  {
   "cell_type": "markdown",
   "id": "3855c0ba",
   "metadata": {
    "papermill": {
     "duration": 0.025613,
     "end_time": "2022-09-02T04:18:26.810254",
     "exception": false,
     "start_time": "2022-09-02T04:18:26.784641",
     "status": "completed"
    },
    "tags": []
   },
   "source": [
    "## scaling only non binary features "
   ]
  },
  {
   "cell_type": "code",
   "execution_count": 16,
   "id": "9d4cf884",
   "metadata": {
    "execution": {
     "iopub.execute_input": "2022-09-02T04:18:26.864861Z",
     "iopub.status.busy": "2022-09-02T04:18:26.864413Z",
     "iopub.status.idle": "2022-09-02T04:18:26.869248Z",
     "shell.execute_reply": "2022-09-02T04:18:26.868440Z"
    },
    "papermill": {
     "duration": 0.034853,
     "end_time": "2022-09-02T04:18:26.871213",
     "exception": false,
     "start_time": "2022-09-02T04:18:26.836360",
     "status": "completed"
    },
    "tags": []
   },
   "outputs": [],
   "source": [
    "from sklearn.preprocessing import StandardScaler"
   ]
  },
  {
   "cell_type": "code",
   "execution_count": 17,
   "id": "d1b524cc",
   "metadata": {
    "execution": {
     "iopub.execute_input": "2022-09-02T04:18:26.926419Z",
     "iopub.status.busy": "2022-09-02T04:18:26.925950Z",
     "iopub.status.idle": "2022-09-02T04:18:26.930241Z",
     "shell.execute_reply": "2022-09-02T04:18:26.929461Z"
    },
    "papermill": {
     "duration": 0.034813,
     "end_time": "2022-09-02T04:18:26.932228",
     "exception": false,
     "start_time": "2022-09-02T04:18:26.897415",
     "status": "completed"
    },
    "tags": []
   },
   "outputs": [],
   "source": [
    "# # make a copy of dataframe\n",
    "# scaled_features = data.copy()\n",
    "\n",
    "# col_names = nonBinaryCols\n",
    "# features = scaled_features[col_names]\n",
    "\n",
    "# # Use scaler of choice; here Standard scaler is used\n",
    "# scaler = StandardScaler().fit(features.values)\n",
    "# features = scaler.transform(features.values)\n",
    "\n",
    "# scaled_features[col_names] = features"
   ]
  },
  {
   "cell_type": "code",
   "execution_count": 18,
   "id": "5fe88cf7",
   "metadata": {
    "execution": {
     "iopub.execute_input": "2022-09-02T04:18:26.987595Z",
     "iopub.status.busy": "2022-09-02T04:18:26.986885Z",
     "iopub.status.idle": "2022-09-02T04:18:26.990629Z",
     "shell.execute_reply": "2022-09-02T04:18:26.989906Z"
    },
    "papermill": {
     "duration": 0.033882,
     "end_time": "2022-09-02T04:18:26.992622",
     "exception": false,
     "start_time": "2022-09-02T04:18:26.958740",
     "status": "completed"
    },
    "tags": []
   },
   "outputs": [],
   "source": [
    "# scaled_features"
   ]
  },
  {
   "cell_type": "code",
   "execution_count": 19,
   "id": "b2808eea",
   "metadata": {
    "execution": {
     "iopub.execute_input": "2022-09-02T04:18:27.047192Z",
     "iopub.status.busy": "2022-09-02T04:18:27.046455Z",
     "iopub.status.idle": "2022-09-02T04:18:27.050320Z",
     "shell.execute_reply": "2022-09-02T04:18:27.049543Z"
    },
    "papermill": {
     "duration": 0.033578,
     "end_time": "2022-09-02T04:18:27.052522",
     "exception": false,
     "start_time": "2022-09-02T04:18:27.018944",
     "status": "completed"
    },
    "tags": []
   },
   "outputs": [],
   "source": [
    "# xTrainOnlyNonBinaryScaled = scaled_features.iloc[:,1:-1].values"
   ]
  },
  {
   "cell_type": "code",
   "execution_count": 20,
   "id": "af833ea1",
   "metadata": {
    "execution": {
     "iopub.execute_input": "2022-09-02T04:18:27.107318Z",
     "iopub.status.busy": "2022-09-02T04:18:27.106607Z",
     "iopub.status.idle": "2022-09-02T04:18:27.113010Z",
     "shell.execute_reply": "2022-09-02T04:18:27.112204Z"
    },
    "papermill": {
     "duration": 0.036579,
     "end_time": "2022-09-02T04:18:27.115281",
     "exception": false,
     "start_time": "2022-09-02T04:18:27.078702",
     "status": "completed"
    },
    "tags": []
   },
   "outputs": [],
   "source": [
    "## seperating labels and features\n",
    "\n",
    "xTrain = df.iloc[:,1:-1].values\n",
    "yTrain = df.iloc[: , -1].values\n",
    "\n",
    "xTrainN = xTrain\n",
    "yTrainN = yTrain"
   ]
  },
  {
   "cell_type": "code",
   "execution_count": 21,
   "id": "ecb91afa",
   "metadata": {
    "execution": {
     "iopub.execute_input": "2022-09-02T04:18:27.172278Z",
     "iopub.status.busy": "2022-09-02T04:18:27.171512Z",
     "iopub.status.idle": "2022-09-02T04:18:27.175891Z",
     "shell.execute_reply": "2022-09-02T04:18:27.174987Z"
    },
    "papermill": {
     "duration": 0.035596,
     "end_time": "2022-09-02T04:18:27.178230",
     "exception": false,
     "start_time": "2022-09-02T04:18:27.142634",
     "status": "completed"
    },
    "tags": []
   },
   "outputs": [],
   "source": [
    "gscvX = xTrain\n",
    "gscvY = yTrain"
   ]
  },
  {
   "cell_type": "markdown",
   "id": "e7614c8e",
   "metadata": {
    "papermill": {
     "duration": 0.026108,
     "end_time": "2022-09-02T04:18:27.230895",
     "exception": false,
     "start_time": "2022-09-02T04:18:27.204787",
     "status": "completed"
    },
    "tags": []
   },
   "source": [
    "## pca"
   ]
  },
  {
   "cell_type": "code",
   "execution_count": 22,
   "id": "718b69be",
   "metadata": {
    "execution": {
     "iopub.execute_input": "2022-09-02T04:18:27.285980Z",
     "iopub.status.busy": "2022-09-02T04:18:27.285234Z",
     "iopub.status.idle": "2022-09-02T04:18:27.289169Z",
     "shell.execute_reply": "2022-09-02T04:18:27.288345Z"
    },
    "papermill": {
     "duration": 0.034194,
     "end_time": "2022-09-02T04:18:27.291416",
     "exception": false,
     "start_time": "2022-09-02T04:18:27.257222",
     "status": "completed"
    },
    "tags": []
   },
   "outputs": [],
   "source": [
    "# from sklearn.preprocessing import MinMaxScaler\n",
    "# scaler = MinMaxScaler()\n",
    "# gscvXscaled = scaler.fit_transform(gscvX)"
   ]
  },
  {
   "cell_type": "code",
   "execution_count": 23,
   "id": "ccd149f9",
   "metadata": {
    "execution": {
     "iopub.execute_input": "2022-09-02T04:18:27.345572Z",
     "iopub.status.busy": "2022-09-02T04:18:27.345149Z",
     "iopub.status.idle": "2022-09-02T04:18:27.348935Z",
     "shell.execute_reply": "2022-09-02T04:18:27.348177Z"
    },
    "papermill": {
     "duration": 0.033418,
     "end_time": "2022-09-02T04:18:27.350936",
     "exception": false,
     "start_time": "2022-09-02T04:18:27.317518",
     "status": "completed"
    },
    "tags": []
   },
   "outputs": [],
   "source": [
    "# from sklearn.preprocessing import StandardScaler\n",
    "\n",
    "# sc = StandardScaler()\n",
    "# gscvXscaledStandard = sc.fit_transform(gscvX)"
   ]
  },
  {
   "cell_type": "code",
   "execution_count": 24,
   "id": "b17da993",
   "metadata": {
    "execution": {
     "iopub.execute_input": "2022-09-02T04:18:27.405511Z",
     "iopub.status.busy": "2022-09-02T04:18:27.404802Z",
     "iopub.status.idle": "2022-09-02T04:18:27.408712Z",
     "shell.execute_reply": "2022-09-02T04:18:27.407969Z"
    },
    "papermill": {
     "duration": 0.033494,
     "end_time": "2022-09-02T04:18:27.410722",
     "exception": false,
     "start_time": "2022-09-02T04:18:27.377228",
     "status": "completed"
    },
    "tags": []
   },
   "outputs": [],
   "source": [
    "# # 95% of variance\n",
    "# from sklearn.decomposition import PCA\n",
    "# pca = PCA(n_components = 0.75)\n",
    "# pca.fit(gscvXscaled)\n",
    "# gscvXreduced = pca.transform(gscvXscaled)\n",
    "\n",
    "# pcaStandard = PCA(n_components = 0.95)\n",
    "# pcaStandard.fit(gscvXscaledStandard)\n",
    "# gscvXreducedStandard = pca.transform(gscvXscaledStandard)"
   ]
  },
  {
   "cell_type": "markdown",
   "id": "f9f420a6",
   "metadata": {
    "papermill": {
     "duration": 0.025939,
     "end_time": "2022-09-02T04:18:27.463073",
     "exception": false,
     "start_time": "2022-09-02T04:18:27.437134",
     "status": "completed"
    },
    "tags": []
   },
   "source": [
    "## dealing with class imbalance"
   ]
  },
  {
   "cell_type": "code",
   "execution_count": 25,
   "id": "a1753c5f",
   "metadata": {
    "execution": {
     "iopub.execute_input": "2022-09-02T04:18:27.517209Z",
     "iopub.status.busy": "2022-09-02T04:18:27.516504Z",
     "iopub.status.idle": "2022-09-02T04:18:27.520490Z",
     "shell.execute_reply": "2022-09-02T04:18:27.519627Z"
    },
    "papermill": {
     "duration": 0.033202,
     "end_time": "2022-09-02T04:18:27.522445",
     "exception": false,
     "start_time": "2022-09-02T04:18:27.489243",
     "status": "completed"
    },
    "tags": []
   },
   "outputs": [],
   "source": [
    "# from imblearn.over_sampling import SMOTE\n"
   ]
  },
  {
   "cell_type": "code",
   "execution_count": 26,
   "id": "e2f14c10",
   "metadata": {
    "execution": {
     "iopub.execute_input": "2022-09-02T04:18:27.577143Z",
     "iopub.status.busy": "2022-09-02T04:18:27.576404Z",
     "iopub.status.idle": "2022-09-02T04:18:27.580233Z",
     "shell.execute_reply": "2022-09-02T04:18:27.579482Z"
    },
    "papermill": {
     "duration": 0.033283,
     "end_time": "2022-09-02T04:18:27.582149",
     "exception": false,
     "start_time": "2022-09-02T04:18:27.548866",
     "status": "completed"
    },
    "tags": []
   },
   "outputs": [],
   "source": [
    "# smote = SMOTE()\n",
    "# xTrainSmote, yTrainSmote = smote.fit_resample(xTrainN,yTrainN)"
   ]
  },
  {
   "cell_type": "code",
   "execution_count": 27,
   "id": "c749e21c",
   "metadata": {
    "execution": {
     "iopub.execute_input": "2022-09-02T04:18:27.636248Z",
     "iopub.status.busy": "2022-09-02T04:18:27.635526Z",
     "iopub.status.idle": "2022-09-02T04:18:27.639988Z",
     "shell.execute_reply": "2022-09-02T04:18:27.638887Z"
    },
    "papermill": {
     "duration": 0.033965,
     "end_time": "2022-09-02T04:18:27.642109",
     "exception": false,
     "start_time": "2022-09-02T04:18:27.608144",
     "status": "completed"
    },
    "tags": []
   },
   "outputs": [],
   "source": [
    "# from collections import Counter \n",
    "# print(Counter(yTrain))\n",
    "# print(Counter(yTrainSmote))"
   ]
  },
  {
   "cell_type": "markdown",
   "id": "fbec15ae",
   "metadata": {
    "papermill": {
     "duration": 0.026218,
     "end_time": "2022-09-02T04:18:27.694545",
     "exception": false,
     "start_time": "2022-09-02T04:18:27.668327",
     "status": "completed"
    },
    "tags": []
   },
   "source": [
    "## checking correlations"
   ]
  },
  {
   "cell_type": "code",
   "execution_count": 28,
   "id": "547a2fcc",
   "metadata": {
    "execution": {
     "iopub.execute_input": "2022-09-02T04:18:27.749372Z",
     "iopub.status.busy": "2022-09-02T04:18:27.748650Z",
     "iopub.status.idle": "2022-09-02T04:18:27.752704Z",
     "shell.execute_reply": "2022-09-02T04:18:27.751720Z"
    },
    "papermill": {
     "duration": 0.034003,
     "end_time": "2022-09-02T04:18:27.754879",
     "exception": false,
     "start_time": "2022-09-02T04:18:27.720876",
     "status": "completed"
    },
    "tags": []
   },
   "outputs": [],
   "source": [
    "# data.corr()"
   ]
  },
  {
   "cell_type": "markdown",
   "id": "1c9a38b2",
   "metadata": {
    "papermill": {
     "duration": 0.025666,
     "end_time": "2022-09-02T04:18:27.806971",
     "exception": false,
     "start_time": "2022-09-02T04:18:27.781305",
     "status": "completed"
    },
    "tags": []
   },
   "source": [
    "## **FEATURE SELECTION**"
   ]
  },
  {
   "cell_type": "code",
   "execution_count": 29,
   "id": "d64134df",
   "metadata": {
    "execution": {
     "iopub.execute_input": "2022-09-02T04:18:27.860891Z",
     "iopub.status.busy": "2022-09-02T04:18:27.860173Z",
     "iopub.status.idle": "2022-09-02T04:18:27.865638Z",
     "shell.execute_reply": "2022-09-02T04:18:27.864853Z"
    },
    "papermill": {
     "duration": 0.034857,
     "end_time": "2022-09-02T04:18:27.867733",
     "exception": false,
     "start_time": "2022-09-02T04:18:27.832876",
     "status": "completed"
    },
    "tags": []
   },
   "outputs": [],
   "source": [
    "xTrainFeatureSelection = df.iloc[:,1:-1]\n",
    "yTrainFeatureSelection = df.iloc[: , -1]"
   ]
  },
  {
   "cell_type": "code",
   "execution_count": 30,
   "id": "1208a13c",
   "metadata": {
    "execution": {
     "iopub.execute_input": "2022-09-02T04:18:27.922608Z",
     "iopub.status.busy": "2022-09-02T04:18:27.922161Z",
     "iopub.status.idle": "2022-09-02T04:18:27.926295Z",
     "shell.execute_reply": "2022-09-02T04:18:27.925371Z"
    },
    "papermill": {
     "duration": 0.034005,
     "end_time": "2022-09-02T04:18:27.928375",
     "exception": false,
     "start_time": "2022-09-02T04:18:27.894370",
     "status": "completed"
    },
    "tags": []
   },
   "outputs": [],
   "source": [
    "# from sklearn.ensemble import ExtraTreesRegressor\n",
    "# import matplotlib.pyplot as plt\n",
    "# model = ExtraTreesRegressor()\n",
    "# model.fit(xTrain,yTrain)\n",
    "# print(sorted(model.feature_importances_, reverse=True))"
   ]
  },
  {
   "cell_type": "code",
   "execution_count": 31,
   "id": "a3c29a26",
   "metadata": {
    "execution": {
     "iopub.execute_input": "2022-09-02T04:18:27.984098Z",
     "iopub.status.busy": "2022-09-02T04:18:27.983323Z",
     "iopub.status.idle": "2022-09-02T04:18:27.987624Z",
     "shell.execute_reply": "2022-09-02T04:18:27.986775Z"
    },
    "papermill": {
     "duration": 0.034276,
     "end_time": "2022-09-02T04:18:27.989794",
     "exception": false,
     "start_time": "2022-09-02T04:18:27.955518",
     "status": "completed"
    },
    "tags": []
   },
   "outputs": [],
   "source": [
    "# s = pd.Series(model.feature_importances_, index = xTrainFeatureSelection.columns)\n",
    "# s.sort_values(ascending=False, inplace=True)\n",
    "# # s[0:20]\n",
    "\n",
    "# dftest0 = s.to_frame()\n",
    "# dftest0.index[0:20]\n",
    "\n",
    "# dfFeatureSelected = df[['v_22', 'v_6', 'v_29', 'v_27', 'v_31', 'v_19', 'v_4', 'v_5', 'v_18',\n",
    "#        'v_17', 'v_10', 'v_3', 'v_36', 'v_37', 'v_32', 'v_38', 'v_39', 'v_20',\n",
    "#        'v_35', 'v_25', 'v_33', 'v_34', 'v_16', 'v_7', 'v_40', 'v_2', 'v_15',\n",
    "#        'v_30', 'v_26', 'v_11', 'label']]"
   ]
  },
  {
   "cell_type": "code",
   "execution_count": 32,
   "id": "5d3a0a8e",
   "metadata": {
    "execution": {
     "iopub.execute_input": "2022-09-02T04:18:28.044722Z",
     "iopub.status.busy": "2022-09-02T04:18:28.043961Z",
     "iopub.status.idle": "2022-09-02T04:18:28.047895Z",
     "shell.execute_reply": "2022-09-02T04:18:28.047093Z"
    },
    "papermill": {
     "duration": 0.033524,
     "end_time": "2022-09-02T04:18:28.049946",
     "exception": false,
     "start_time": "2022-09-02T04:18:28.016422",
     "status": "completed"
    },
    "tags": []
   },
   "outputs": [],
   "source": [
    "# dfFeatureSelected"
   ]
  },
  {
   "cell_type": "code",
   "execution_count": 33,
   "id": "f1dbdcba",
   "metadata": {
    "execution": {
     "iopub.execute_input": "2022-09-02T04:18:28.104491Z",
     "iopub.status.busy": "2022-09-02T04:18:28.104032Z",
     "iopub.status.idle": "2022-09-02T04:18:28.111800Z",
     "shell.execute_reply": "2022-09-02T04:18:28.110743Z"
    },
    "papermill": {
     "duration": 0.037925,
     "end_time": "2022-09-02T04:18:28.114069",
     "exception": false,
     "start_time": "2022-09-02T04:18:28.076144",
     "status": "completed"
    },
    "tags": []
   },
   "outputs": [],
   "source": [
    "xTrainFeatureSelected = df.iloc[:,1:-1].values\n",
    "yTrainFeatureSelected = df.iloc[: , -1].values"
   ]
  },
  {
   "cell_type": "markdown",
   "id": "cb395d51",
   "metadata": {
    "papermill": {
     "duration": 0.025974,
     "end_time": "2022-09-02T04:18:28.167299",
     "exception": false,
     "start_time": "2022-09-02T04:18:28.141325",
     "status": "completed"
    },
    "tags": []
   },
   "source": [
    "## naive implementation without feature selection and feature scaling"
   ]
  },
  {
   "cell_type": "code",
   "execution_count": 34,
   "id": "1b1efa3d",
   "metadata": {
    "execution": {
     "iopub.execute_input": "2022-09-02T04:18:28.221615Z",
     "iopub.status.busy": "2022-09-02T04:18:28.220890Z",
     "iopub.status.idle": "2022-09-02T04:18:28.225000Z",
     "shell.execute_reply": "2022-09-02T04:18:28.223966Z"
    },
    "papermill": {
     "duration": 0.033791,
     "end_time": "2022-09-02T04:18:28.227167",
     "exception": false,
     "start_time": "2022-09-02T04:18:28.193376",
     "status": "completed"
    },
    "tags": []
   },
   "outputs": [],
   "source": [
    "# # converting class label to multiclass format using label binarizer\n",
    "# from sklearn import preprocessing\n",
    "# lb = preprocessing.LabelBinarizer()\n",
    "# yTrain =  lb.fit_transform(yTrain)\n",
    "# yTrain"
   ]
  },
  {
   "cell_type": "code",
   "execution_count": 35,
   "id": "5852c6e7",
   "metadata": {
    "execution": {
     "iopub.execute_input": "2022-09-02T04:18:28.281631Z",
     "iopub.status.busy": "2022-09-02T04:18:28.281186Z",
     "iopub.status.idle": "2022-09-02T04:18:28.285007Z",
     "shell.execute_reply": "2022-09-02T04:18:28.284197Z"
    },
    "papermill": {
     "duration": 0.033444,
     "end_time": "2022-09-02T04:18:28.287023",
     "exception": false,
     "start_time": "2022-09-02T04:18:28.253579",
     "status": "completed"
    },
    "tags": []
   },
   "outputs": [],
   "source": [
    "# gscvX = xTrain\n",
    "# gscvY = yTrain"
   ]
  },
  {
   "cell_type": "markdown",
   "id": "9261e5a1",
   "metadata": {
    "papermill": {
     "duration": 0.026033,
     "end_time": "2022-09-02T04:18:28.339196",
     "exception": false,
     "start_time": "2022-09-02T04:18:28.313163",
     "status": "completed"
    },
    "tags": []
   },
   "source": [
    "### splittig data"
   ]
  },
  {
   "cell_type": "code",
   "execution_count": 36,
   "id": "02e72bf4",
   "metadata": {
    "execution": {
     "iopub.execute_input": "2022-09-02T04:18:28.393580Z",
     "iopub.status.busy": "2022-09-02T04:18:28.393126Z",
     "iopub.status.idle": "2022-09-02T04:18:28.397316Z",
     "shell.execute_reply": "2022-09-02T04:18:28.396372Z"
    },
    "papermill": {
     "duration": 0.034204,
     "end_time": "2022-09-02T04:18:28.399622",
     "exception": false,
     "start_time": "2022-09-02T04:18:28.365418",
     "status": "completed"
    },
    "tags": []
   },
   "outputs": [],
   "source": [
    "# from sklearn.model_selection import train_test_split\n",
    "# xTrain, xTest, yTrain, yTest = train_test_split(xTrain, yTrain, test_size = 0.05, random_state = 0)\n",
    "\n",
    "# from sklearn.model_selection import train_test_split\n",
    "# xTrainN, xTestN, yTrainN, yTestN = train_test_split(xTrainN, yTrainN, test_size = 0.05, random_state = 0)"
   ]
  },
  {
   "cell_type": "code",
   "execution_count": null,
   "id": "cc31fbd7",
   "metadata": {
    "papermill": {
     "duration": 0.02656,
     "end_time": "2022-09-02T04:18:28.453053",
     "exception": false,
     "start_time": "2022-09-02T04:18:28.426493",
     "status": "completed"
    },
    "tags": []
   },
   "outputs": [],
   "source": []
  },
  {
   "cell_type": "markdown",
   "id": "00be5e59",
   "metadata": {
    "papermill": {
     "duration": 0.025541,
     "end_time": "2022-09-02T04:18:28.504897",
     "exception": false,
     "start_time": "2022-09-02T04:18:28.479356",
     "status": "completed"
    },
    "tags": []
   },
   "source": [
    "### FEATURE SCALING SOME DATA"
   ]
  },
  {
   "cell_type": "code",
   "execution_count": 37,
   "id": "10a37516",
   "metadata": {
    "execution": {
     "iopub.execute_input": "2022-09-02T04:18:28.559699Z",
     "iopub.status.busy": "2022-09-02T04:18:28.558437Z",
     "iopub.status.idle": "2022-09-02T04:18:28.563069Z",
     "shell.execute_reply": "2022-09-02T04:18:28.562317Z"
    },
    "papermill": {
     "duration": 0.034361,
     "end_time": "2022-09-02T04:18:28.565328",
     "exception": false,
     "start_time": "2022-09-02T04:18:28.530967",
     "status": "completed"
    },
    "tags": []
   },
   "outputs": [],
   "source": [
    "from sklearn.preprocessing import MinMaxScaler\n",
    "from sklearn.preprocessing import StandardScaler"
   ]
  },
  {
   "cell_type": "code",
   "execution_count": 38,
   "id": "0551c3b8",
   "metadata": {
    "execution": {
     "iopub.execute_input": "2022-09-02T04:18:28.622006Z",
     "iopub.status.busy": "2022-09-02T04:18:28.620526Z",
     "iopub.status.idle": "2022-09-02T04:18:28.625520Z",
     "shell.execute_reply": "2022-09-02T04:18:28.624628Z"
    },
    "papermill": {
     "duration": 0.035336,
     "end_time": "2022-09-02T04:18:28.627668",
     "exception": false,
     "start_time": "2022-09-02T04:18:28.592332",
     "status": "completed"
    },
    "tags": []
   },
   "outputs": [],
   "source": [
    "# sc = StandardScaler()\n",
    "# xTrainf = sc.fit_transform(xTrain)\n",
    "# xTestf = sc.transform(xTest)\n",
    "\n",
    "# scaler = MinMaxScaler()\n",
    "# xTrainMM = scaler.fit_transform(xTrain)\n",
    "# xTestMM = scaler.transform(xTest)\n",
    "\n",
    "# ## CLEARLY RIDGE REGRESOR IS NOT AFAFFECTED BY FEATURE SCALING"
   ]
  },
  {
   "cell_type": "code",
   "execution_count": null,
   "id": "0887213c",
   "metadata": {
    "papermill": {
     "duration": 0.026088,
     "end_time": "2022-09-02T04:18:28.680258",
     "exception": false,
     "start_time": "2022-09-02T04:18:28.654170",
     "status": "completed"
    },
    "tags": []
   },
   "outputs": [],
   "source": []
  },
  {
   "cell_type": "markdown",
   "id": "2a8ce622",
   "metadata": {
    "papermill": {
     "duration": 0.025875,
     "end_time": "2022-09-02T04:18:28.732286",
     "exception": false,
     "start_time": "2022-09-02T04:18:28.706411",
     "status": "completed"
    },
    "tags": []
   },
   "source": [
    "### **USING LOGISTIC REGRESSION**"
   ]
  },
  {
   "cell_type": "code",
   "execution_count": 39,
   "id": "78ea43e4",
   "metadata": {
    "execution": {
     "iopub.execute_input": "2022-09-02T04:18:28.787385Z",
     "iopub.status.busy": "2022-09-02T04:18:28.786116Z",
     "iopub.status.idle": "2022-09-02T04:18:28.790836Z",
     "shell.execute_reply": "2022-09-02T04:18:28.789918Z"
    },
    "papermill": {
     "duration": 0.034506,
     "end_time": "2022-09-02T04:18:28.792869",
     "exception": false,
     "start_time": "2022-09-02T04:18:28.758363",
     "status": "completed"
    },
    "tags": []
   },
   "outputs": [],
   "source": [
    "# from sklearn.linear_model import LogisticRegression\n",
    "# lg = LogisticRegression(multi_class='ovr', solver='lbfgs')\n",
    "# lg2 = LogisticRegression(multi_class='ovr', solver='lbfgs')\n",
    "# lg3 = LogisticRegression(multi_class='ovr', solver='lbfgs')\n",
    "# lg4 = LogisticRegression(multi_class='ovr', solver='lbfgs')"
   ]
  },
  {
   "cell_type": "code",
   "execution_count": 40,
   "id": "de567b24",
   "metadata": {
    "execution": {
     "iopub.execute_input": "2022-09-02T04:18:28.847196Z",
     "iopub.status.busy": "2022-09-02T04:18:28.846430Z",
     "iopub.status.idle": "2022-09-02T04:18:28.851459Z",
     "shell.execute_reply": "2022-09-02T04:18:28.850487Z"
    },
    "papermill": {
     "duration": 0.034778,
     "end_time": "2022-09-02T04:18:28.853639",
     "exception": false,
     "start_time": "2022-09-02T04:18:28.818861",
     "status": "completed"
    },
    "tags": []
   },
   "outputs": [],
   "source": [
    "# # NOT FEATURE SCALED\n",
    "# lg.fit(xTrainN, yTrainN)\n",
    "# ypred = lg.predict(xTest)\n",
    "\n",
    "# # FEATURE SCALED\n",
    "# lg2.fit(xTrainf, yTrainN)\n",
    "# ypred2 = lg.predict(xTestf)\n",
    "\n",
    "# lg3.fit(xTrainMM, yTrainN)\n",
    "# ypred3 = lg.predict(xTestMM)\n",
    "\n",
    "\n",
    "# lg4.fit(xTrainSmote, yTrainSmote)\n",
    "# ypred4 = lg.predict(xTestf)\n",
    "\n",
    "\n",
    "\n",
    "# print(f1_score(yTestN, ypred, average='macro'))\n",
    "# print(f1_score(yTestN, ypred2, average='macro'))\n",
    "# print(f1_score(yTestN, ypred3, average='macro'))\n",
    "# print(f1_score(yTestN, ypred4, average='macro'))"
   ]
  },
  {
   "cell_type": "code",
   "execution_count": 41,
   "id": "9d3a07bc",
   "metadata": {
    "execution": {
     "iopub.execute_input": "2022-09-02T04:18:28.908867Z",
     "iopub.status.busy": "2022-09-02T04:18:28.908472Z",
     "iopub.status.idle": "2022-09-02T04:18:28.914622Z",
     "shell.execute_reply": "2022-09-02T04:18:28.913752Z"
    },
    "papermill": {
     "duration": 0.037302,
     "end_time": "2022-09-02T04:18:28.917028",
     "exception": false,
     "start_time": "2022-09-02T04:18:28.879726",
     "status": "completed"
    },
    "tags": []
   },
   "outputs": [
    {
     "data": {
      "text/plain": [
       "' yTrain, yTest array([[0, 1, 0],\\n               [0, 1, 0]...         (label binalized)\\n\\n\\n yTrainN ,yTestN array([1, 1, 0, ..., 2, 0, 1])\\n\\nxTrainf, XTestf (FEATURE SCALED) \\n\\nxTrain, xTest (normal data)    same for xTrainN and xTestN\\n\\n'"
      ]
     },
     "execution_count": 41,
     "metadata": {},
     "output_type": "execute_result"
    }
   ],
   "source": [
    "\"\"\" yTrain, yTest array([[0, 1, 0],\n",
    "               [0, 1, 0]...         (label binalized)\n",
    "\n",
    "\n",
    " yTrainN ,yTestN array([1, 1, 0, ..., 2, 0, 1])\n",
    "\n",
    "xTrainf, XTestf (FEATURE SCALED) \n",
    "\n",
    "xTrain, xTest (normal data)    same for xTrainN and xTestN\n",
    "\n",
    "\"\"\""
   ]
  },
  {
   "cell_type": "markdown",
   "id": "94b4676d",
   "metadata": {
    "papermill": {
     "duration": 0.026824,
     "end_time": "2022-09-02T04:18:28.970152",
     "exception": false,
     "start_time": "2022-09-02T04:18:28.943328",
     "status": "completed"
    },
    "tags": []
   },
   "source": [
    "# **RANDOM FOREST CLASSIFIER**"
   ]
  },
  {
   "cell_type": "code",
   "execution_count": 42,
   "id": "7eab7fad",
   "metadata": {
    "execution": {
     "iopub.execute_input": "2022-09-02T04:18:29.025744Z",
     "iopub.status.busy": "2022-09-02T04:18:29.025140Z",
     "iopub.status.idle": "2022-09-02T04:18:29.029632Z",
     "shell.execute_reply": "2022-09-02T04:18:29.028566Z"
    },
    "papermill": {
     "duration": 0.035559,
     "end_time": "2022-09-02T04:18:29.031899",
     "exception": false,
     "start_time": "2022-09-02T04:18:28.996340",
     "status": "completed"
    },
    "tags": []
   },
   "outputs": [],
   "source": [
    "# # importing random forest classifier from assemble module\n",
    "# from sklearn.ensemble import RandomForestClassifier\n",
    "\n",
    "\n",
    "# rfc1 = RandomForestClassifier(n_estimators = 900, max_depth = 16, max_features = 20, bootstrap = True, random_state = 18)\n",
    "# # rfc2 = RandomForestClassifier(n_estimators = 600, max_depth = 15, max_features = 25, bootstrap = True, random_state = 18)\n",
    "\n",
    "# # best estimators score: n_estimators = 600, max_depth = 16, max_features = 25\n",
    "\n",
    "# # best local : 7250\n",
    "\n",
    "\n",
    "# # NOT FEATURE SCALED\n",
    "# rfc1.fit(xTrainN, yTrainN)\n",
    "# ypred = rfc1.predict(xTest)\n",
    "\n",
    "# # # FEATURE SCALED\n",
    "# # rfc2.fit(xTrainf, yTrainN)\n",
    "# # ypred2 = rfc2.predict(xTestf)\n",
    "\n",
    "# print(f1_score(yTestN, ypred, average='macro'))\n",
    "# # print(f1_score(yTestN, ypred2, average='macro'))"
   ]
  },
  {
   "cell_type": "markdown",
   "id": "b3eb376b",
   "metadata": {
    "papermill": {
     "duration": 0.025803,
     "end_time": "2022-09-02T04:18:29.083775",
     "exception": false,
     "start_time": "2022-09-02T04:18:29.057972",
     "status": "completed"
    },
    "tags": []
   },
   "source": [
    "## CROSS VALIDATION"
   ]
  },
  {
   "cell_type": "code",
   "execution_count": 43,
   "id": "dc6d7d1c",
   "metadata": {
    "execution": {
     "iopub.execute_input": "2022-09-02T04:18:29.139058Z",
     "iopub.status.busy": "2022-09-02T04:18:29.138184Z",
     "iopub.status.idle": "2022-09-02T04:18:29.142432Z",
     "shell.execute_reply": "2022-09-02T04:18:29.141557Z"
    },
    "papermill": {
     "duration": 0.034974,
     "end_time": "2022-09-02T04:18:29.144875",
     "exception": false,
     "start_time": "2022-09-02T04:18:29.109901",
     "status": "completed"
    },
    "tags": []
   },
   "outputs": [],
   "source": [
    "# from sklearn.model_selection import GridSearchCV\n",
    "\n",
    "# param_grid = {  'bootstrap': [True], 'max_depth': [5, 10, None], 'max_features': ['auto', 'sqrt'], 'n_estimators': [5, 6, 7, 8, 9, 10, 11, 12, 13, 15]}\n",
    "\n",
    "# rfc=RandomForestClassifier(random_state=42)\n",
    "# gscv = GridSearchCV(estimator = rfc,\n",
    "#                     param_grid=param_grid,\n",
    "#                     cv = 5\n",
    "#                    )\n",
    "# gscv.fit(gscvX,gscvY)"
   ]
  },
  {
   "cell_type": "code",
   "execution_count": 44,
   "id": "97110796",
   "metadata": {
    "execution": {
     "iopub.execute_input": "2022-09-02T04:18:29.200544Z",
     "iopub.status.busy": "2022-09-02T04:18:29.200108Z",
     "iopub.status.idle": "2022-09-02T04:18:29.204212Z",
     "shell.execute_reply": "2022-09-02T04:18:29.203309Z"
    },
    "papermill": {
     "duration": 0.034928,
     "end_time": "2022-09-02T04:18:29.206313",
     "exception": false,
     "start_time": "2022-09-02T04:18:29.171385",
     "status": "completed"
    },
    "tags": []
   },
   "outputs": [],
   "source": [
    "# gscv.best_params_"
   ]
  },
  {
   "cell_type": "code",
   "execution_count": 45,
   "id": "cb61fe5c",
   "metadata": {
    "execution": {
     "iopub.execute_input": "2022-09-02T04:18:29.262932Z",
     "iopub.status.busy": "2022-09-02T04:18:29.262339Z",
     "iopub.status.idle": "2022-09-02T04:18:29.266616Z",
     "shell.execute_reply": "2022-09-02T04:18:29.265571Z"
    },
    "papermill": {
     "duration": 0.034991,
     "end_time": "2022-09-02T04:18:29.268665",
     "exception": false,
     "start_time": "2022-09-02T04:18:29.233674",
     "status": "completed"
    },
    "tags": []
   },
   "outputs": [],
   "source": [
    "# from sklearn.ensemble import RandomForestClassifier\n",
    "# from sklearn.model_selection import RandomizedSearchCV\n",
    "# param = { 'max_depth': [15,17 ,19,None], \n",
    "#          'n_estimators':[ 200,300,400,500,600], \n",
    "#           'max_features': [5,7,10,15,20,25,30],\n",
    "#           'criterion' : ['gini', 'entropy'],\n",
    "#           'bootstrap':[True, False],\n",
    "          \n",
    "#         }\n",
    "\n",
    "# rnd_search = RandomizedSearchCV(RandomForestClassifier(), param, \n",
    "# n_iter =10, cv=5)\n",
    "# rnd_search.fit(gscvX,gscvY)\n",
    "# print(rnd_search.best_params_)\n",
    "# rnd_search.best_score_"
   ]
  },
  {
   "cell_type": "markdown",
   "id": "ef384b36",
   "metadata": {
    "papermill": {
     "duration": 0.025751,
     "end_time": "2022-09-02T04:18:29.320840",
     "exception": false,
     "start_time": "2022-09-02T04:18:29.295089",
     "status": "completed"
    },
    "tags": []
   },
   "source": [
    "### using cross validated parameters"
   ]
  },
  {
   "cell_type": "code",
   "execution_count": 46,
   "id": "82073aff",
   "metadata": {
    "execution": {
     "iopub.execute_input": "2022-09-02T04:18:29.375506Z",
     "iopub.status.busy": "2022-09-02T04:18:29.375036Z",
     "iopub.status.idle": "2022-09-02T04:18:29.379626Z",
     "shell.execute_reply": "2022-09-02T04:18:29.378429Z"
    },
    "papermill": {
     "duration": 0.034691,
     "end_time": "2022-09-02T04:18:29.382078",
     "exception": false,
     "start_time": "2022-09-02T04:18:29.347387",
     "status": "completed"
    },
    "tags": []
   },
   "outputs": [],
   "source": [
    "# from sklearn.ensemble import RandomForestClassifier\n",
    "# rfc2 = RandomForestClassifier(n_estimators =  600, max_features = 20, max_depth =  None,  criterion =  'entropy',  bootstrap = False)\n",
    "\n",
    "# # testing on NON FEATURE SCALED data\n",
    "# rfc2.fit(xTrainN, yTrainN)\n",
    "# ypred = rfc1.predict(xTest)\n",
    "\n",
    "# print(f1_score(yTestN, ypred, average='macro'))"
   ]
  },
  {
   "cell_type": "code",
   "execution_count": null,
   "id": "9e017f2b",
   "metadata": {
    "papermill": {
     "duration": 0.025769,
     "end_time": "2022-09-02T04:18:29.434245",
     "exception": false,
     "start_time": "2022-09-02T04:18:29.408476",
     "status": "completed"
    },
    "tags": []
   },
   "outputs": [],
   "source": []
  },
  {
   "cell_type": "code",
   "execution_count": null,
   "id": "94415795",
   "metadata": {
    "papermill": {
     "duration": 0.025743,
     "end_time": "2022-09-02T04:18:29.486472",
     "exception": false,
     "start_time": "2022-09-02T04:18:29.460729",
     "status": "completed"
    },
    "tags": []
   },
   "outputs": [],
   "source": []
  },
  {
   "cell_type": "markdown",
   "id": "6dcd05ee",
   "metadata": {
    "papermill": {
     "duration": 0.026971,
     "end_time": "2022-09-02T04:18:29.539870",
     "exception": false,
     "start_time": "2022-09-02T04:18:29.512899",
     "status": "completed"
    },
    "tags": []
   },
   "source": [
    "## submission run for random forest"
   ]
  },
  {
   "cell_type": "code",
   "execution_count": 47,
   "id": "b9431b4e",
   "metadata": {
    "execution": {
     "iopub.execute_input": "2022-09-02T04:18:29.594889Z",
     "iopub.status.busy": "2022-09-02T04:18:29.594472Z",
     "iopub.status.idle": "2022-09-02T04:18:29.598788Z",
     "shell.execute_reply": "2022-09-02T04:18:29.597929Z"
    },
    "papermill": {
     "duration": 0.033949,
     "end_time": "2022-09-02T04:18:29.600829",
     "exception": false,
     "start_time": "2022-09-02T04:18:29.566880",
     "status": "completed"
    },
    "tags": []
   },
   "outputs": [],
   "source": [
    "# rfc3 = RandomForestClassifier(n_estimators =  600, max_features = 20, max_depth =  None,  criterion =  'entropy',  bootstrap = False)\n",
    "# rfc3.fit(gscvX,gscvY)"
   ]
  },
  {
   "cell_type": "markdown",
   "id": "0961d0ed",
   "metadata": {
    "papermill": {
     "duration": 0.025943,
     "end_time": "2022-09-02T04:18:29.652868",
     "exception": false,
     "start_time": "2022-09-02T04:18:29.626925",
     "status": "completed"
    },
    "tags": []
   },
   "source": [
    "# KMeans\n"
   ]
  },
  {
   "cell_type": "code",
   "execution_count": 48,
   "id": "e31b618c",
   "metadata": {
    "execution": {
     "iopub.execute_input": "2022-09-02T04:18:29.707604Z",
     "iopub.status.busy": "2022-09-02T04:18:29.706895Z",
     "iopub.status.idle": "2022-09-02T04:18:29.711048Z",
     "shell.execute_reply": "2022-09-02T04:18:29.709900Z"
    },
    "papermill": {
     "duration": 0.034303,
     "end_time": "2022-09-02T04:18:29.713458",
     "exception": false,
     "start_time": "2022-09-02T04:18:29.679155",
     "status": "completed"
    },
    "tags": []
   },
   "outputs": [],
   "source": [
    "# scKMeans = StandardScaler()\n",
    "# gscvX_std_Scaled = scKMeans.fit_transform(gscvX)"
   ]
  },
  {
   "cell_type": "code",
   "execution_count": 49,
   "id": "8c039a94",
   "metadata": {
    "execution": {
     "iopub.execute_input": "2022-09-02T04:18:29.767841Z",
     "iopub.status.busy": "2022-09-02T04:18:29.766969Z",
     "iopub.status.idle": "2022-09-02T04:18:29.772331Z",
     "shell.execute_reply": "2022-09-02T04:18:29.771217Z"
    },
    "papermill": {
     "duration": 0.035059,
     "end_time": "2022-09-02T04:18:29.774539",
     "exception": false,
     "start_time": "2022-09-02T04:18:29.739480",
     "status": "completed"
    },
    "tags": []
   },
   "outputs": [],
   "source": [
    "# from sklearn.cluster import KMeans\n",
    "\n",
    "# kmeans_args = {\n",
    "#     \"init\" : \"random\",\n",
    "#     \"n_init\": 30,\n",
    "#     \"max_iter\" : 500,\n",
    "#     \"random_state\" : 0\n",
    "# }"
   ]
  },
  {
   "cell_type": "code",
   "execution_count": 50,
   "id": "161e1e22",
   "metadata": {
    "execution": {
     "iopub.execute_input": "2022-09-02T04:18:29.829533Z",
     "iopub.status.busy": "2022-09-02T04:18:29.828359Z",
     "iopub.status.idle": "2022-09-02T04:18:29.833683Z",
     "shell.execute_reply": "2022-09-02T04:18:29.832721Z"
    },
    "papermill": {
     "duration": 0.034993,
     "end_time": "2022-09-02T04:18:29.835952",
     "exception": false,
     "start_time": "2022-09-02T04:18:29.800959",
     "status": "completed"
    },
    "tags": []
   },
   "outputs": [],
   "source": [
    "# elbowList = []\n",
    "\n",
    "# for i in range(1,30):\n",
    "# #     print(i)\n",
    "# #     print(gscvX_std_Scaled.shape)\n",
    "#     kmo = KMeans(n_clusters = i, **kmeans_args).fit(gscvX_std_Scaled)\n",
    "#     elbowList.append(kmo.inertia_)"
   ]
  },
  {
   "cell_type": "code",
   "execution_count": 51,
   "id": "3fd2afdc",
   "metadata": {
    "execution": {
     "iopub.execute_input": "2022-09-02T04:18:29.890527Z",
     "iopub.status.busy": "2022-09-02T04:18:29.890108Z",
     "iopub.status.idle": "2022-09-02T04:18:29.894350Z",
     "shell.execute_reply": "2022-09-02T04:18:29.893545Z"
    },
    "papermill": {
     "duration": 0.034056,
     "end_time": "2022-09-02T04:18:29.896517",
     "exception": false,
     "start_time": "2022-09-02T04:18:29.862461",
     "status": "completed"
    },
    "tags": []
   },
   "outputs": [],
   "source": [
    "# from matplotlib import pyplot as plt\n",
    "# plt.plot(range(1,30),elbowList)\n",
    "# plt.xticks(range(1,30))\n",
    "# plt.show"
   ]
  },
  {
   "cell_type": "code",
   "execution_count": 52,
   "id": "b34b01e9",
   "metadata": {
    "execution": {
     "iopub.execute_input": "2022-09-02T04:18:29.951739Z",
     "iopub.status.busy": "2022-09-02T04:18:29.950996Z",
     "iopub.status.idle": "2022-09-02T04:18:29.955688Z",
     "shell.execute_reply": "2022-09-02T04:18:29.954817Z"
    },
    "papermill": {
     "duration": 0.03484,
     "end_time": "2022-09-02T04:18:29.957919",
     "exception": false,
     "start_time": "2022-09-02T04:18:29.923079",
     "status": "completed"
    },
    "tags": []
   },
   "outputs": [],
   "source": [
    "# kmo = KMeans(n_clusters = 3, **kmeans_args).fit(gscvX_std_Scaled)\n",
    "\n",
    "\n",
    "# print(f1_score(gscvY,kmo.predict(gscvX), average='macro'))"
   ]
  },
  {
   "cell_type": "markdown",
   "id": "d0b8be69",
   "metadata": {
    "papermill": {
     "duration": 0.025601,
     "end_time": "2022-09-02T04:18:30.009789",
     "exception": false,
     "start_time": "2022-09-02T04:18:29.984188",
     "status": "completed"
    },
    "tags": []
   },
   "source": [
    "# BOOSTING"
   ]
  },
  {
   "cell_type": "markdown",
   "id": "cb9778a1",
   "metadata": {
    "papermill": {
     "duration": 0.026335,
     "end_time": "2022-09-02T04:18:30.062367",
     "exception": false,
     "start_time": "2022-09-02T04:18:30.036032",
     "status": "completed"
    },
    "tags": []
   },
   "source": [
    "### GRADIENT BOOST"
   ]
  },
  {
   "cell_type": "markdown",
   "id": "660caab0",
   "metadata": {
    "papermill": {
     "duration": 0.025513,
     "end_time": "2022-09-02T04:18:30.113985",
     "exception": false,
     "start_time": "2022-09-02T04:18:30.088472",
     "status": "completed"
    },
    "tags": []
   },
   "source": [
    "## THE BEST ESTIMATOR YET (0.76119)"
   ]
  },
  {
   "cell_type": "code",
   "execution_count": 53,
   "id": "cac1168a",
   "metadata": {
    "execution": {
     "iopub.execute_input": "2022-09-02T04:18:30.169034Z",
     "iopub.status.busy": "2022-09-02T04:18:30.168360Z",
     "iopub.status.idle": "2022-09-02T04:18:37.070150Z",
     "shell.execute_reply": "2022-09-02T04:18:37.068888Z"
    },
    "papermill": {
     "duration": 6.932481,
     "end_time": "2022-09-02T04:18:37.072983",
     "exception": false,
     "start_time": "2022-09-02T04:18:30.140502",
     "status": "completed"
    },
    "tags": []
   },
   "outputs": [],
   "source": [
    "from sklearn.ensemble import GradientBoostingClassifier\n",
    "gb = GradientBoostingClassifier(n_estimators=400, learning_rate=0.75,max_depth=1).fit(gscvX, gscvY)"
   ]
  },
  {
   "cell_type": "code",
   "execution_count": null,
   "id": "a671cb10",
   "metadata": {
    "papermill": {
     "duration": 0.025781,
     "end_time": "2022-09-02T04:18:37.125657",
     "exception": false,
     "start_time": "2022-09-02T04:18:37.099876",
     "status": "completed"
    },
    "tags": []
   },
   "outputs": [],
   "source": []
  },
  {
   "cell_type": "markdown",
   "id": "7c2ff59a",
   "metadata": {
    "papermill": {
     "duration": 0.025778,
     "end_time": "2022-09-02T04:18:37.178245",
     "exception": false,
     "start_time": "2022-09-02T04:18:37.152467",
     "status": "completed"
    },
    "tags": []
   },
   "source": [
    "## using smote samples"
   ]
  },
  {
   "cell_type": "code",
   "execution_count": 54,
   "id": "361139b5",
   "metadata": {
    "execution": {
     "iopub.execute_input": "2022-09-02T04:18:37.232006Z",
     "iopub.status.busy": "2022-09-02T04:18:37.231592Z",
     "iopub.status.idle": "2022-09-02T04:18:37.236450Z",
     "shell.execute_reply": "2022-09-02T04:18:37.235311Z"
    },
    "papermill": {
     "duration": 0.034394,
     "end_time": "2022-09-02T04:18:37.238732",
     "exception": false,
     "start_time": "2022-09-02T04:18:37.204338",
     "status": "completed"
    },
    "tags": []
   },
   "outputs": [],
   "source": [
    "# from sklearn.ensemble import GradientBoostingClassifier\n",
    "# gbSmote = GradientBoostingClassifier(n_estimators=300, learning_rate=1.0,max_depth=1, random_state=0).fit(xTrainSmote, yTrainSmote)"
   ]
  },
  {
   "cell_type": "code",
   "execution_count": 55,
   "id": "ee1a2e32",
   "metadata": {
    "execution": {
     "iopub.execute_input": "2022-09-02T04:18:37.292757Z",
     "iopub.status.busy": "2022-09-02T04:18:37.292293Z",
     "iopub.status.idle": "2022-09-02T04:18:37.363591Z",
     "shell.execute_reply": "2022-09-02T04:18:37.361969Z"
    },
    "papermill": {
     "duration": 0.101316,
     "end_time": "2022-09-02T04:18:37.366147",
     "exception": false,
     "start_time": "2022-09-02T04:18:37.264831",
     "status": "completed"
    },
    "tags": []
   },
   "outputs": [
    {
     "name": "stdout",
     "output_type": "stream",
     "text": [
      "0.7771519092990674\n",
      "0.8258693361433087\n"
     ]
    }
   ],
   "source": [
    "print(f1_score(gscvY,gb.predict(gscvX), average='macro'))\n",
    "print(f1_score(gscvY,gb.predict(gscvX), average='micro'))"
   ]
  },
  {
   "cell_type": "code",
   "execution_count": 56,
   "id": "a207c2e1",
   "metadata": {
    "execution": {
     "iopub.execute_input": "2022-09-02T04:18:37.421348Z",
     "iopub.status.busy": "2022-09-02T04:18:37.420938Z",
     "iopub.status.idle": "2022-09-02T04:18:37.425120Z",
     "shell.execute_reply": "2022-09-02T04:18:37.424149Z"
    },
    "papermill": {
     "duration": 0.034885,
     "end_time": "2022-09-02T04:18:37.427259",
     "exception": false,
     "start_time": "2022-09-02T04:18:37.392374",
     "status": "completed"
    },
    "tags": []
   },
   "outputs": [],
   "source": [
    "# from sklearn.model_selection import cross_val_score\n",
    "\n",
    "# gbCV = GradientBoostingClassifier(n_estimators=400, learning_rate=1.0,max_depth=1, random_state=0)\n",
    "# scores = cross_val_score(gbCV,gscvX, gscvY, cv=5)\n",
    "# scores"
   ]
  },
  {
   "cell_type": "code",
   "execution_count": 57,
   "id": "0242ae27",
   "metadata": {
    "execution": {
     "iopub.execute_input": "2022-09-02T04:18:37.482952Z",
     "iopub.status.busy": "2022-09-02T04:18:37.481836Z",
     "iopub.status.idle": "2022-09-02T04:18:37.486256Z",
     "shell.execute_reply": "2022-09-02T04:18:37.485465Z"
    },
    "papermill": {
     "duration": 0.034007,
     "end_time": "2022-09-02T04:18:37.488379",
     "exception": false,
     "start_time": "2022-09-02T04:18:37.454372",
     "status": "completed"
    },
    "tags": []
   },
   "outputs": [],
   "source": [
    "# print(f1_score(yTrainSmote,gbSmote.predict(xTrainSmote), average='macro'))"
   ]
  },
  {
   "cell_type": "markdown",
   "id": "056a3e6c",
   "metadata": {
    "papermill": {
     "duration": 0.026801,
     "end_time": "2022-09-02T04:18:37.542307",
     "exception": false,
     "start_time": "2022-09-02T04:18:37.515506",
     "status": "completed"
    },
    "tags": []
   },
   "source": [
    "### RandomizedSearchCV for gradBoost"
   ]
  },
  {
   "cell_type": "code",
   "execution_count": 58,
   "id": "48510b8c",
   "metadata": {
    "execution": {
     "iopub.execute_input": "2022-09-02T04:18:37.597448Z",
     "iopub.status.busy": "2022-09-02T04:18:37.596683Z",
     "iopub.status.idle": "2022-09-02T04:18:37.602178Z",
     "shell.execute_reply": "2022-09-02T04:18:37.600591Z"
    },
    "papermill": {
     "duration": 0.035993,
     "end_time": "2022-09-02T04:18:37.604801",
     "exception": false,
     "start_time": "2022-09-02T04:18:37.568808",
     "status": "completed"
    },
    "tags": []
   },
   "outputs": [],
   "source": [
    "# from sklearn.ensemble import RandomForestClassifier\n",
    "# from sklearn.model_selection import RandomizedSearchCV\n",
    "# param = { 'max_depth': [1,2 ,3,None], \n",
    "#          'n_estimators':[100, 150, 200, 250 ,300,400,500], \n",
    "#           'max_features': [1,3,5,7,10,15],\n",
    "# #           'bootstrap':[True, False],\n",
    "# #           'max_features':['auto', 'sqrt'],\n",
    "#          'learning_rate' : [ 1.0,0.4,0.8,1.6,1.2,2.0],\n",
    "#          'min_samples_split' : [2,3,4,5],\n",
    "#           'min_samples_leaf' : [1,2,3,4]\n",
    "         \n",
    "#         }\n",
    "\n",
    "# rnd_search = RandomizedSearchCV(GradientBoostingClassifier(), param, \n",
    "# n_iter =10, cv=5)\n",
    "# rnd_search.fit(gscvX,gscvY)\n",
    "# print(rnd_search.best_params_)"
   ]
  },
  {
   "cell_type": "code",
   "execution_count": 59,
   "id": "d850fcc8",
   "metadata": {
    "execution": {
     "iopub.execute_input": "2022-09-02T04:18:37.659679Z",
     "iopub.status.busy": "2022-09-02T04:18:37.658795Z",
     "iopub.status.idle": "2022-09-02T04:18:37.663913Z",
     "shell.execute_reply": "2022-09-02T04:18:37.662715Z"
    },
    "papermill": {
     "duration": 0.035559,
     "end_time": "2022-09-02T04:18:37.666629",
     "exception": false,
     "start_time": "2022-09-02T04:18:37.631070",
     "status": "completed"
    },
    "tags": []
   },
   "outputs": [],
   "source": [
    "# print(f1_score(gscvY,rnd_search.predict(gscvX), average='macro'))"
   ]
  },
  {
   "cell_type": "markdown",
   "id": "46f87f4a",
   "metadata": {
    "papermill": {
     "duration": 0.025857,
     "end_time": "2022-09-02T04:18:37.719359",
     "exception": false,
     "start_time": "2022-09-02T04:18:37.693502",
     "status": "completed"
    },
    "tags": []
   },
   "source": [
    "## BEST PARAMETERS FOR GRADIENT SEARCH ACC TO RANDOMISED SEARCH\n",
    "\n",
    "### {'n_estimators': 500, 'min_samples_split': 4, 'min_samples_leaf': 4, 'max_features': 5, 'max_depth': None, 'learning_rate': 0.4"
   ]
  },
  {
   "cell_type": "code",
   "execution_count": null,
   "id": "86956f06",
   "metadata": {
    "papermill": {
     "duration": 0.02601,
     "end_time": "2022-09-02T04:18:37.772132",
     "exception": false,
     "start_time": "2022-09-02T04:18:37.746122",
     "status": "completed"
    },
    "tags": []
   },
   "outputs": [],
   "source": []
  },
  {
   "cell_type": "code",
   "execution_count": 60,
   "id": "097bb9a9",
   "metadata": {
    "execution": {
     "iopub.execute_input": "2022-09-02T04:18:37.827704Z",
     "iopub.status.busy": "2022-09-02T04:18:37.827257Z",
     "iopub.status.idle": "2022-09-02T04:18:37.832597Z",
     "shell.execute_reply": "2022-09-02T04:18:37.831358Z"
    },
    "papermill": {
     "duration": 0.036723,
     "end_time": "2022-09-02T04:18:37.835073",
     "exception": false,
     "start_time": "2022-09-02T04:18:37.798350",
     "status": "completed"
    },
    "tags": []
   },
   "outputs": [],
   "source": [
    "# from sklearn.ensemble import GradientBoostingClassifier\n",
    "# gbRandomisedSearch = GradientBoostingClassifier(n_estimators= 400, learning_rate=0.2,max_depth= None,min_samples_split =  4,min_samples_leaf = 4).fit(gscvX, gscvY) "
   ]
  },
  {
   "cell_type": "code",
   "execution_count": 61,
   "id": "cdb9b01f",
   "metadata": {
    "execution": {
     "iopub.execute_input": "2022-09-02T04:18:37.890180Z",
     "iopub.status.busy": "2022-09-02T04:18:37.889732Z",
     "iopub.status.idle": "2022-09-02T04:18:37.894739Z",
     "shell.execute_reply": "2022-09-02T04:18:37.893527Z"
    },
    "papermill": {
     "duration": 0.034866,
     "end_time": "2022-09-02T04:18:37.896950",
     "exception": false,
     "start_time": "2022-09-02T04:18:37.862084",
     "status": "completed"
    },
    "tags": []
   },
   "outputs": [],
   "source": [
    "# print(f1_score(gscvY,gbRandomisedSearch.predict(gscvX), average='macro'))\n",
    "# print(f1_score(gscvY,gbRandomisedSearch.predict(gscvX), average='micro'))"
   ]
  },
  {
   "cell_type": "code",
   "execution_count": 62,
   "id": "6f2769cb",
   "metadata": {
    "execution": {
     "iopub.execute_input": "2022-09-02T04:18:37.951848Z",
     "iopub.status.busy": "2022-09-02T04:18:37.951474Z",
     "iopub.status.idle": "2022-09-02T04:18:37.955853Z",
     "shell.execute_reply": "2022-09-02T04:18:37.954920Z"
    },
    "papermill": {
     "duration": 0.034339,
     "end_time": "2022-09-02T04:18:37.958043",
     "exception": false,
     "start_time": "2022-09-02T04:18:37.923704",
     "status": "completed"
    },
    "tags": []
   },
   "outputs": [],
   "source": [
    "# from sklearn.ensemble import RandomForestClassifier\n",
    "# from sklearn.model_selection import RandomizedSearchCV\n",
    "# param = { 'max_depth': [1,2 ,3], \n",
    "#          'n_estimators':[ 400,450,500,550,600,650,700], \n",
    "#           'max_features': [1,3,5,7,10,15],\n",
    "# #           'criterion' : ['gini', 'entropy'],\n",
    "# #           'bootstrap':[True, False],\n",
    "# #           'max_features':['auto', 'sqrt'],\n",
    "#          'learning_rate' : [0.05,0.25,0.01, 0.005,0.1,0.5]\n",
    "         \n",
    "#         }\n",
    "\n",
    "# GBsearch = RandomizedSearchCV(GradientBoostingClassifier(), param, \n",
    "# n_iter =12, cv=5)\n",
    "# GBsearch.fit(gscvX,gscvY)\n",
    "# print(GBsearch.best_params_)"
   ]
  },
  {
   "cell_type": "markdown",
   "id": "271331be",
   "metadata": {
    "papermill": {
     "duration": 0.025724,
     "end_time": "2022-09-02T04:18:38.010832",
     "exception": false,
     "start_time": "2022-09-02T04:18:37.985108",
     "status": "completed"
    },
    "tags": []
   },
   "source": [
    "### best parameter\n",
    "{'n_estimators': 550, 'max_features': 7, 'max_depth': 3, 'learning_rate': 0.1}"
   ]
  },
  {
   "cell_type": "code",
   "execution_count": 63,
   "id": "f04e5aa9",
   "metadata": {
    "execution": {
     "iopub.execute_input": "2022-09-02T04:18:38.065983Z",
     "iopub.status.busy": "2022-09-02T04:18:38.065202Z",
     "iopub.status.idle": "2022-09-02T04:18:38.069305Z",
     "shell.execute_reply": "2022-09-02T04:18:38.068455Z"
    },
    "papermill": {
     "duration": 0.0346,
     "end_time": "2022-09-02T04:18:38.071567",
     "exception": false,
     "start_time": "2022-09-02T04:18:38.036967",
     "status": "completed"
    },
    "tags": []
   },
   "outputs": [],
   "source": [
    "\n",
    "# print(f1_score(gscvY,GBsearch.predict(gscvX), average='macro'))"
   ]
  },
  {
   "cell_type": "code",
   "execution_count": 64,
   "id": "effd695e",
   "metadata": {
    "execution": {
     "iopub.execute_input": "2022-09-02T04:18:38.127514Z",
     "iopub.status.busy": "2022-09-02T04:18:38.127110Z",
     "iopub.status.idle": "2022-09-02T04:18:38.130986Z",
     "shell.execute_reply": "2022-09-02T04:18:38.130174Z"
    },
    "papermill": {
     "duration": 0.034793,
     "end_time": "2022-09-02T04:18:38.133224",
     "exception": false,
     "start_time": "2022-09-02T04:18:38.098431",
     "status": "completed"
    },
    "tags": []
   },
   "outputs": [],
   "source": [
    "# from sklearn.ensemble import GradientBoostingClassifier"
   ]
  },
  {
   "cell_type": "code",
   "execution_count": 65,
   "id": "d216d899",
   "metadata": {
    "execution": {
     "iopub.execute_input": "2022-09-02T04:18:38.189132Z",
     "iopub.status.busy": "2022-09-02T04:18:38.188694Z",
     "iopub.status.idle": "2022-09-02T04:18:38.193358Z",
     "shell.execute_reply": "2022-09-02T04:18:38.192319Z"
    },
    "papermill": {
     "duration": 0.034796,
     "end_time": "2022-09-02T04:18:38.195592",
     "exception": false,
     "start_time": "2022-09-02T04:18:38.160796",
     "status": "completed"
    },
    "tags": []
   },
   "outputs": [],
   "source": [
    "# gbFinal = GradientBoostingClassifier(n_estimators=500, learning_rate=0.1, max_depth=3,max_features = 5).fit(gscvX, gscvY)\n",
    "# print(f1_score(gscvY,gbFinal.predict(gscvX), average='macro'))"
   ]
  },
  {
   "cell_type": "markdown",
   "id": "875796e7",
   "metadata": {
    "papermill": {
     "duration": 0.026568,
     "end_time": "2022-09-02T04:18:38.248441",
     "exception": false,
     "start_time": "2022-09-02T04:18:38.221873",
     "status": "completed"
    },
    "tags": []
   },
   "source": [
    "# adaboost"
   ]
  },
  {
   "cell_type": "code",
   "execution_count": 66,
   "id": "59f77c5f",
   "metadata": {
    "execution": {
     "iopub.execute_input": "2022-09-02T04:18:38.303979Z",
     "iopub.status.busy": "2022-09-02T04:18:38.303245Z",
     "iopub.status.idle": "2022-09-02T04:18:38.307753Z",
     "shell.execute_reply": "2022-09-02T04:18:38.306918Z"
    },
    "papermill": {
     "duration": 0.034969,
     "end_time": "2022-09-02T04:18:38.309934",
     "exception": false,
     "start_time": "2022-09-02T04:18:38.274965",
     "status": "completed"
    },
    "tags": []
   },
   "outputs": [],
   "source": [
    "# from sklearn.ensemble import AdaBoostClassifier"
   ]
  },
  {
   "cell_type": "code",
   "execution_count": 67,
   "id": "29af1374",
   "metadata": {
    "execution": {
     "iopub.execute_input": "2022-09-02T04:18:38.365597Z",
     "iopub.status.busy": "2022-09-02T04:18:38.364806Z",
     "iopub.status.idle": "2022-09-02T04:18:38.368946Z",
     "shell.execute_reply": "2022-09-02T04:18:38.367933Z"
    },
    "papermill": {
     "duration": 0.034676,
     "end_time": "2022-09-02T04:18:38.371403",
     "exception": false,
     "start_time": "2022-09-02T04:18:38.336727",
     "status": "completed"
    },
    "tags": []
   },
   "outputs": [],
   "source": [
    "# AdaBoostObj = AdaBoostClassifier(n_estimators=800,learning_rate = 1.8).fit(gscvX, gscvY)\n",
    "# print(f1_score(gscvY,AdaBoostObj.predict(gscvX), average='macro'))"
   ]
  },
  {
   "cell_type": "markdown",
   "id": "77a2809c",
   "metadata": {
    "papermill": {
     "duration": 0.02597,
     "end_time": "2022-09-02T04:18:38.423670",
     "exception": false,
     "start_time": "2022-09-02T04:18:38.397700",
     "status": "completed"
    },
    "tags": []
   },
   "source": [
    "## XGBOOST"
   ]
  },
  {
   "cell_type": "code",
   "execution_count": 68,
   "id": "61790a8f",
   "metadata": {
    "execution": {
     "iopub.execute_input": "2022-09-02T04:18:38.479850Z",
     "iopub.status.busy": "2022-09-02T04:18:38.479425Z",
     "iopub.status.idle": "2022-09-02T04:18:38.484305Z",
     "shell.execute_reply": "2022-09-02T04:18:38.483133Z"
    },
    "papermill": {
     "duration": 0.036014,
     "end_time": "2022-09-02T04:18:38.486979",
     "exception": false,
     "start_time": "2022-09-02T04:18:38.450965",
     "status": "completed"
    },
    "tags": []
   },
   "outputs": [],
   "source": [
    "# from sklearn.model_selection import RandomizedSearchCV\n",
    "# import xgboost\n",
    "# classifier = xgboost.XGBClassifier()"
   ]
  },
  {
   "cell_type": "code",
   "execution_count": 69,
   "id": "87130663",
   "metadata": {
    "execution": {
     "iopub.execute_input": "2022-09-02T04:18:38.541907Z",
     "iopub.status.busy": "2022-09-02T04:18:38.541471Z",
     "iopub.status.idle": "2022-09-02T04:18:38.546638Z",
     "shell.execute_reply": "2022-09-02T04:18:38.545321Z"
    },
    "papermill": {
     "duration": 0.035781,
     "end_time": "2022-09-02T04:18:38.549213",
     "exception": false,
     "start_time": "2022-09-02T04:18:38.513432",
     "status": "completed"
    },
    "tags": []
   },
   "outputs": [],
   "source": [
    "# params = {\n",
    "#  'learning_rate' : [0.05,0.10,0.15,0.20,0.25,0.30],\n",
    "#  'max_depth' : [ 3, 4, 5, 6, 8, 10, 12, 15],\n",
    "#  'min_child_weight' : [ 1, 3, 5, 7 ],\n",
    "#  'gamma': [ 0.0, 0.1, 0.2 , 0.3, 0.4 ],\n",
    "#  'colsample_bytree' : [ 0.3, 0.4, 0.5 , 0.7 ]\n",
    "# }\n",
    "\n",
    "# rs_model=RandomizedSearchCV(classifier,param_distributions=params,n_iter=7,scoring='f1',n_jobs=-1,cv=5,verbose=3)\n",
    "# rs_model.fit(gscvX, gscvY)\n",
    "# rs_model.best_estimator_"
   ]
  },
  {
   "cell_type": "code",
   "execution_count": 70,
   "id": "2dec94e8",
   "metadata": {
    "execution": {
     "iopub.execute_input": "2022-09-02T04:18:38.605129Z",
     "iopub.status.busy": "2022-09-02T04:18:38.604688Z",
     "iopub.status.idle": "2022-09-02T04:18:38.609596Z",
     "shell.execute_reply": "2022-09-02T04:18:38.608458Z"
    },
    "papermill": {
     "duration": 0.035449,
     "end_time": "2022-09-02T04:18:38.611901",
     "exception": false,
     "start_time": "2022-09-02T04:18:38.576452",
     "status": "completed"
    },
    "tags": []
   },
   "outputs": [],
   "source": [
    "# print(rs_model.best_estimator_)"
   ]
  },
  {
   "cell_type": "markdown",
   "id": "ff0354d3",
   "metadata": {
    "papermill": {
     "duration": 0.025699,
     "end_time": "2022-09-02T04:18:38.665028",
     "exception": false,
     "start_time": "2022-09-02T04:18:38.639329",
     "status": "completed"
    },
    "tags": []
   },
   "source": [
    "## MLP CLASSIFIER"
   ]
  },
  {
   "cell_type": "code",
   "execution_count": 71,
   "id": "bee16a1d",
   "metadata": {
    "execution": {
     "iopub.execute_input": "2022-09-02T04:18:38.719701Z",
     "iopub.status.busy": "2022-09-02T04:18:38.719245Z",
     "iopub.status.idle": "2022-09-02T04:18:38.724212Z",
     "shell.execute_reply": "2022-09-02T04:18:38.723352Z"
    },
    "papermill": {
     "duration": 0.03489,
     "end_time": "2022-09-02T04:18:38.726436",
     "exception": false,
     "start_time": "2022-09-02T04:18:38.691546",
     "status": "completed"
    },
    "tags": []
   },
   "outputs": [],
   "source": [
    "# from sklearn.neural_network import MLPClassifier"
   ]
  },
  {
   "cell_type": "code",
   "execution_count": 72,
   "id": "42d2b9c1",
   "metadata": {
    "execution": {
     "iopub.execute_input": "2022-09-02T04:18:38.781665Z",
     "iopub.status.busy": "2022-09-02T04:18:38.781215Z",
     "iopub.status.idle": "2022-09-02T04:18:38.786282Z",
     "shell.execute_reply": "2022-09-02T04:18:38.785092Z"
    },
    "papermill": {
     "duration": 0.034947,
     "end_time": "2022-09-02T04:18:38.788540",
     "exception": false,
     "start_time": "2022-09-02T04:18:38.753593",
     "status": "completed"
    },
    "tags": []
   },
   "outputs": [],
   "source": [
    "# mlp= MLPClassifier().fit(xTrainN, yTrainN)\n",
    "# ypred1 = mlp1.predict(xTest)\n",
    "\n",
    "# mlp2 = MLPClassifier().fit(xTrainf, yTrainN)\n",
    "# ypred2 = mlp2.predict(xTestf)\n",
    "\n",
    "# mlp3 = MLPClassifier().fit(xTrainMM, yTrainN)\n",
    "# ypred3 = mlp3.predict(xTestMM)\n",
    "\n",
    "\n",
    "\n",
    "# print(f1_score(yTestN, ypred, average='macro'))\n",
    "# print(f1_score(yTestN, ypred2, average='macro'))\n",
    "# print(f1_score(yTestN, ypred3, average='macro'))"
   ]
  },
  {
   "cell_type": "code",
   "execution_count": 73,
   "id": "13283f39",
   "metadata": {
    "execution": {
     "iopub.execute_input": "2022-09-02T04:18:38.843439Z",
     "iopub.status.busy": "2022-09-02T04:18:38.842868Z",
     "iopub.status.idle": "2022-09-02T04:18:38.848176Z",
     "shell.execute_reply": "2022-09-02T04:18:38.847023Z"
    },
    "papermill": {
     "duration": 0.035817,
     "end_time": "2022-09-02T04:18:38.850534",
     "exception": false,
     "start_time": "2022-09-02T04:18:38.814717",
     "status": "completed"
    },
    "tags": []
   },
   "outputs": [],
   "source": [
    "# from sklearn.model_selection import RandomizedSearchCV\n",
    "\n",
    "# param = {\n",
    "#     'hidden_layer_sizes': [(50,50,50), (50,100,50),(100,100,50),(100,100,100),(50,50,50,50),(50,50,50,50,50)],\n",
    "#     'activation': ['tanh', 'relu'],\n",
    "#     'solver': ['sgd', 'adam'],\n",
    "#     'alpha': [0.0001, 0.1 , 0.01 , 0.05, 0.001, 0.5, 1, 1.5, 2],\n",
    "#     'learning_rate': ['constant','adaptive'],\n",
    "# }"
   ]
  },
  {
   "cell_type": "code",
   "execution_count": 74,
   "id": "cc674bef",
   "metadata": {
    "execution": {
     "iopub.execute_input": "2022-09-02T04:18:38.904770Z",
     "iopub.status.busy": "2022-09-02T04:18:38.904355Z",
     "iopub.status.idle": "2022-09-02T04:18:38.909362Z",
     "shell.execute_reply": "2022-09-02T04:18:38.908105Z"
    },
    "papermill": {
     "duration": 0.034771,
     "end_time": "2022-09-02T04:18:38.911677",
     "exception": false,
     "start_time": "2022-09-02T04:18:38.876906",
     "status": "completed"
    },
    "tags": []
   },
   "outputs": [],
   "source": [
    "# rsMlp = RandomizedSearchCV(MLPClassifier(max_iter=500), param, \n",
    "# n_iter =7, cv=5)\n",
    "# rsMlp.fit(gscvX,gscvY)\n",
    "# print(rsMlp.best_params_)\n",
    "# print(rsMlp.best_score_)"
   ]
  },
  {
   "cell_type": "markdown",
   "id": "f9458419",
   "metadata": {
    "papermill": {
     "duration": 0.026473,
     "end_time": "2022-09-02T04:18:38.964982",
     "exception": false,
     "start_time": "2022-09-02T04:18:38.938509",
     "status": "completed"
    },
    "tags": []
   },
   "source": [
    "### best parameters after randomized search\n",
    "\n",
    "#### {'solver': 'adam', 'learning_rate': 'adaptive', 'hidden_layer_sizes': (50, 100, 50), 'alpha': 0.1, 'activation': 'relu'}\n"
   ]
  },
  {
   "cell_type": "code",
   "execution_count": 75,
   "id": "0d4d96d4",
   "metadata": {
    "execution": {
     "iopub.execute_input": "2022-09-02T04:18:39.019694Z",
     "iopub.status.busy": "2022-09-02T04:18:39.019277Z",
     "iopub.status.idle": "2022-09-02T04:18:39.024606Z",
     "shell.execute_reply": "2022-09-02T04:18:39.023312Z"
    },
    "papermill": {
     "duration": 0.035355,
     "end_time": "2022-09-02T04:18:39.026902",
     "exception": false,
     "start_time": "2022-09-02T04:18:38.991547",
     "status": "completed"
    },
    "tags": []
   },
   "outputs": [],
   "source": [
    "# mlp= MLPClassifier(max_iter=500, solver = 'adam', learning_rate = 'adaptive', hidden_layer_sizes = (50, 100, 50), alpha = 0.1, activation = 'relu').fit(xTrainOnlyNonBinaryScaled,gscvY)"
   ]
  },
  {
   "cell_type": "markdown",
   "id": "945e690e",
   "metadata": {
    "papermill": {
     "duration": 0.025842,
     "end_time": "2022-09-02T04:18:39.079678",
     "exception": false,
     "start_time": "2022-09-02T04:18:39.053836",
     "status": "completed"
    },
    "tags": []
   },
   "source": [
    "#  **RUNNING ON TEST DATA**\n",
    "## * making submision file"
   ]
  },
  {
   "cell_type": "code",
   "execution_count": 76,
   "id": "ea5bdd42",
   "metadata": {
    "execution": {
     "iopub.execute_input": "2022-09-02T04:18:39.134095Z",
     "iopub.status.busy": "2022-09-02T04:18:39.133632Z",
     "iopub.status.idle": "2022-09-02T04:18:39.164210Z",
     "shell.execute_reply": "2022-09-02T04:18:39.163120Z"
    },
    "papermill": {
     "duration": 0.060721,
     "end_time": "2022-09-02T04:18:39.166766",
     "exception": false,
     "start_time": "2022-09-02T04:18:39.106045",
     "status": "completed"
    },
    "tags": []
   },
   "outputs": [],
   "source": [
    "test = pd.read_csv('../input/students-drop-out-prediction/test.csv')\n",
    "\n",
    "testRun = test.iloc[:,1:].values\n",
    "testIndex = test.iloc[: , 0].values\n",
    "\n",
    "submission = test[['id']]\n"
   ]
  },
  {
   "cell_type": "code",
   "execution_count": 77,
   "id": "167ef9c0",
   "metadata": {
    "execution": {
     "iopub.execute_input": "2022-09-02T04:18:39.221988Z",
     "iopub.status.busy": "2022-09-02T04:18:39.221242Z",
     "iopub.status.idle": "2022-09-02T04:18:39.225189Z",
     "shell.execute_reply": "2022-09-02T04:18:39.224418Z"
    },
    "papermill": {
     "duration": 0.033954,
     "end_time": "2022-09-02T04:18:39.227389",
     "exception": false,
     "start_time": "2022-09-02T04:18:39.193435",
     "status": "completed"
    },
    "tags": []
   },
   "outputs": [],
   "source": [
    "# ypredTest = rfc1.predict(testRun)"
   ]
  },
  {
   "cell_type": "markdown",
   "id": "73bc67e8",
   "metadata": {
    "papermill": {
     "duration": 0.028619,
     "end_time": "2022-09-02T04:18:39.282850",
     "exception": false,
     "start_time": "2022-09-02T04:18:39.254231",
     "status": "completed"
    },
    "tags": []
   },
   "source": [
    "### version 4 try"
   ]
  },
  {
   "cell_type": "code",
   "execution_count": 78,
   "id": "50cd2847",
   "metadata": {
    "execution": {
     "iopub.execute_input": "2022-09-02T04:18:39.337993Z",
     "iopub.status.busy": "2022-09-02T04:18:39.337242Z",
     "iopub.status.idle": "2022-09-02T04:18:39.341108Z",
     "shell.execute_reply": "2022-09-02T04:18:39.340361Z"
    },
    "papermill": {
     "duration": 0.034407,
     "end_time": "2022-09-02T04:18:39.343221",
     "exception": false,
     "start_time": "2022-09-02T04:18:39.308814",
     "status": "completed"
    },
    "tags": []
   },
   "outputs": [],
   "source": [
    "# ypredTest = rfc3.predict(testRun)"
   ]
  },
  {
   "cell_type": "markdown",
   "id": "cd422d4b",
   "metadata": {
    "papermill": {
     "duration": 0.026698,
     "end_time": "2022-09-02T04:18:39.396869",
     "exception": false,
     "start_time": "2022-09-02T04:18:39.370171",
     "status": "completed"
    },
    "tags": []
   },
   "source": [
    "### version 7 try(gradient boost)"
   ]
  },
  {
   "cell_type": "markdown",
   "id": "3119916d",
   "metadata": {
    "papermill": {
     "duration": 0.025804,
     "end_time": "2022-09-02T04:18:39.448734",
     "exception": false,
     "start_time": "2022-09-02T04:18:39.422930",
     "status": "completed"
    },
    "tags": []
   },
   "source": [
    "## current best"
   ]
  },
  {
   "cell_type": "code",
   "execution_count": 79,
   "id": "38b7d0b1",
   "metadata": {
    "execution": {
     "iopub.execute_input": "2022-09-02T04:18:39.505008Z",
     "iopub.status.busy": "2022-09-02T04:18:39.504247Z",
     "iopub.status.idle": "2022-09-02T04:18:39.522987Z",
     "shell.execute_reply": "2022-09-02T04:18:39.521620Z"
    },
    "papermill": {
     "duration": 0.050179,
     "end_time": "2022-09-02T04:18:39.525778",
     "exception": false,
     "start_time": "2022-09-02T04:18:39.475599",
     "status": "completed"
    },
    "tags": []
   },
   "outputs": [],
   "source": [
    "ypredTest = gb.predict(testRun)"
   ]
  },
  {
   "cell_type": "markdown",
   "id": "668583ae",
   "metadata": {
    "papermill": {
     "duration": 0.025983,
     "end_time": "2022-09-02T04:18:39.578356",
     "exception": false,
     "start_time": "2022-09-02T04:18:39.552373",
     "status": "completed"
    },
    "tags": []
   },
   "source": [
    "## **PCA gradient boost pred**"
   ]
  },
  {
   "cell_type": "code",
   "execution_count": 80,
   "id": "8cb43354",
   "metadata": {
    "execution": {
     "iopub.execute_input": "2022-09-02T04:18:39.633579Z",
     "iopub.status.busy": "2022-09-02T04:18:39.632784Z",
     "iopub.status.idle": "2022-09-02T04:18:39.637358Z",
     "shell.execute_reply": "2022-09-02T04:18:39.636253Z"
    },
    "papermill": {
     "duration": 0.035278,
     "end_time": "2022-09-02T04:18:39.639880",
     "exception": false,
     "start_time": "2022-09-02T04:18:39.604602",
     "status": "completed"
    },
    "tags": []
   },
   "outputs": [],
   "source": [
    "# testRun = pca.transform(testRun)\n",
    "# ypredTest = gb.predict(testRun)"
   ]
  },
  {
   "cell_type": "markdown",
   "id": "27c8b0bd",
   "metadata": {
    "papermill": {
     "duration": 0.096815,
     "end_time": "2022-09-02T04:18:39.763505",
     "exception": false,
     "start_time": "2022-09-02T04:18:39.666690",
     "status": "completed"
    },
    "tags": []
   },
   "source": [
    "gbRandomisedSearch prediction\n"
   ]
  },
  {
   "cell_type": "code",
   "execution_count": 81,
   "id": "0def85ef",
   "metadata": {
    "execution": {
     "iopub.execute_input": "2022-09-02T04:18:39.818478Z",
     "iopub.status.busy": "2022-09-02T04:18:39.818039Z",
     "iopub.status.idle": "2022-09-02T04:18:39.822282Z",
     "shell.execute_reply": "2022-09-02T04:18:39.821432Z"
    },
    "papermill": {
     "duration": 0.033997,
     "end_time": "2022-09-02T04:18:39.824256",
     "exception": false,
     "start_time": "2022-09-02T04:18:39.790259",
     "status": "completed"
    },
    "tags": []
   },
   "outputs": [],
   "source": [
    "# ypredTest = gbRandomisedSearch.predict(testRun)\n"
   ]
  },
  {
   "cell_type": "markdown",
   "id": "4276770e",
   "metadata": {
    "papermill": {
     "duration": 0.025991,
     "end_time": "2022-09-02T04:18:39.876880",
     "exception": false,
     "start_time": "2022-09-02T04:18:39.850889",
     "status": "completed"
    },
    "tags": []
   },
   "source": [
    "### version hyper parameter tuned gradient boost"
   ]
  },
  {
   "cell_type": "code",
   "execution_count": 82,
   "id": "c4e43536",
   "metadata": {
    "execution": {
     "iopub.execute_input": "2022-09-02T04:18:39.932958Z",
     "iopub.status.busy": "2022-09-02T04:18:39.932210Z",
     "iopub.status.idle": "2022-09-02T04:18:39.936191Z",
     "shell.execute_reply": "2022-09-02T04:18:39.935349Z"
    },
    "papermill": {
     "duration": 0.035164,
     "end_time": "2022-09-02T04:18:39.938168",
     "exception": false,
     "start_time": "2022-09-02T04:18:39.903004",
     "status": "completed"
    },
    "tags": []
   },
   "outputs": [],
   "source": [
    "\n",
    "# ypredTest = rnd_search.predict(testRun)"
   ]
  },
  {
   "cell_type": "markdown",
   "id": "ac845378",
   "metadata": {
    "papermill": {
     "duration": 0.02593,
     "end_time": "2022-09-02T04:18:39.990868",
     "exception": false,
     "start_time": "2022-09-02T04:18:39.964938",
     "status": "completed"
    },
    "tags": []
   },
   "source": [
    "### version 2nd hyper parameter tuned gradient boost"
   ]
  },
  {
   "cell_type": "code",
   "execution_count": 83,
   "id": "2f95d431",
   "metadata": {
    "execution": {
     "iopub.execute_input": "2022-09-02T04:18:40.046517Z",
     "iopub.status.busy": "2022-09-02T04:18:40.045817Z",
     "iopub.status.idle": "2022-09-02T04:18:40.049617Z",
     "shell.execute_reply": "2022-09-02T04:18:40.048859Z"
    },
    "papermill": {
     "duration": 0.034374,
     "end_time": "2022-09-02T04:18:40.051796",
     "exception": false,
     "start_time": "2022-09-02T04:18:40.017422",
     "status": "completed"
    },
    "tags": []
   },
   "outputs": [],
   "source": [
    "# ypredTest = gbFinal.predict(testRun)"
   ]
  },
  {
   "cell_type": "markdown",
   "id": "6ce78860",
   "metadata": {
    "papermill": {
     "duration": 0.025978,
     "end_time": "2022-09-02T04:18:40.104417",
     "exception": false,
     "start_time": "2022-09-02T04:18:40.078439",
     "status": "completed"
    },
    "tags": []
   },
   "source": [
    "## adaboost prediction"
   ]
  },
  {
   "cell_type": "code",
   "execution_count": 84,
   "id": "f204428c",
   "metadata": {
    "execution": {
     "iopub.execute_input": "2022-09-02T04:18:40.159558Z",
     "iopub.status.busy": "2022-09-02T04:18:40.158806Z",
     "iopub.status.idle": "2022-09-02T04:18:40.163089Z",
     "shell.execute_reply": "2022-09-02T04:18:40.162324Z"
    },
    "papermill": {
     "duration": 0.034485,
     "end_time": "2022-09-02T04:18:40.165408",
     "exception": false,
     "start_time": "2022-09-02T04:18:40.130923",
     "status": "completed"
    },
    "tags": []
   },
   "outputs": [],
   "source": [
    "# ypredTest = AdaBoostObj.predict(testRun)\n"
   ]
  },
  {
   "cell_type": "markdown",
   "id": "254138e1",
   "metadata": {
    "papermill": {
     "duration": 0.026478,
     "end_time": "2022-09-02T04:18:40.218643",
     "exception": false,
     "start_time": "2022-09-02T04:18:40.192165",
     "status": "completed"
    },
    "tags": []
   },
   "source": [
    "# # xgboost predcition"
   ]
  },
  {
   "cell_type": "code",
   "execution_count": 85,
   "id": "878e0a61",
   "metadata": {
    "execution": {
     "iopub.execute_input": "2022-09-02T04:18:40.275393Z",
     "iopub.status.busy": "2022-09-02T04:18:40.274917Z",
     "iopub.status.idle": "2022-09-02T04:18:40.279647Z",
     "shell.execute_reply": "2022-09-02T04:18:40.278494Z"
    },
    "papermill": {
     "duration": 0.035711,
     "end_time": "2022-09-02T04:18:40.282122",
     "exception": false,
     "start_time": "2022-09-02T04:18:40.246411",
     "status": "completed"
    },
    "tags": []
   },
   "outputs": [],
   "source": [
    "\n",
    "# ypredTest = rs_model.predict(testRun)"
   ]
  },
  {
   "cell_type": "markdown",
   "id": "e43561de",
   "metadata": {
    "papermill": {
     "duration": 0.026109,
     "end_time": "2022-09-02T04:18:40.334643",
     "exception": false,
     "start_time": "2022-09-02T04:18:40.308534",
     "status": "completed"
    },
    "tags": []
   },
   "source": [
    "## mlpclassifier prediction"
   ]
  },
  {
   "cell_type": "code",
   "execution_count": 86,
   "id": "62f59221",
   "metadata": {
    "execution": {
     "iopub.execute_input": "2022-09-02T04:18:40.390027Z",
     "iopub.status.busy": "2022-09-02T04:18:40.388837Z",
     "iopub.status.idle": "2022-09-02T04:18:40.393867Z",
     "shell.execute_reply": "2022-09-02T04:18:40.393095Z"
    },
    "papermill": {
     "duration": 0.035095,
     "end_time": "2022-09-02T04:18:40.396177",
     "exception": false,
     "start_time": "2022-09-02T04:18:40.361082",
     "status": "completed"
    },
    "tags": []
   },
   "outputs": [],
   "source": [
    "# ypredTest = mlp.predict(testRun)"
   ]
  },
  {
   "cell_type": "markdown",
   "id": "e66f837b",
   "metadata": {
    "papermill": {
     "duration": 0.026318,
     "end_time": "2022-09-02T04:18:40.448894",
     "exception": false,
     "start_time": "2022-09-02T04:18:40.422576",
     "status": "completed"
    },
    "tags": []
   },
   "source": [
    "## smote prediction"
   ]
  },
  {
   "cell_type": "code",
   "execution_count": 87,
   "id": "e2f51f43",
   "metadata": {
    "execution": {
     "iopub.execute_input": "2022-09-02T04:18:40.504600Z",
     "iopub.status.busy": "2022-09-02T04:18:40.503797Z",
     "iopub.status.idle": "2022-09-02T04:18:40.508643Z",
     "shell.execute_reply": "2022-09-02T04:18:40.507775Z"
    },
    "papermill": {
     "duration": 0.035951,
     "end_time": "2022-09-02T04:18:40.510999",
     "exception": false,
     "start_time": "2022-09-02T04:18:40.475048",
     "status": "completed"
    },
    "tags": []
   },
   "outputs": [],
   "source": [
    "# ypredTest = gbSmote.predict(testRun)\n"
   ]
  },
  {
   "cell_type": "code",
   "execution_count": 88,
   "id": "493c8c5f",
   "metadata": {
    "execution": {
     "iopub.execute_input": "2022-09-02T04:18:40.566534Z",
     "iopub.status.busy": "2022-09-02T04:18:40.565740Z",
     "iopub.status.idle": "2022-09-02T04:18:40.576291Z",
     "shell.execute_reply": "2022-09-02T04:18:40.575013Z"
    },
    "papermill": {
     "duration": 0.041663,
     "end_time": "2022-09-02T04:18:40.579349",
     "exception": false,
     "start_time": "2022-09-02T04:18:40.537686",
     "status": "completed"
    },
    "tags": []
   },
   "outputs": [
    {
     "name": "stderr",
     "output_type": "stream",
     "text": [
      "/opt/conda/lib/python3.7/site-packages/ipykernel_launcher.py:1: SettingWithCopyWarning: \n",
      "A value is trying to be set on a copy of a slice from a DataFrame.\n",
      "Try using .loc[row_indexer,col_indexer] = value instead\n",
      "\n",
      "See the caveats in the documentation: https://pandas.pydata.org/pandas-docs/stable/user_guide/indexing.html#returning-a-view-versus-a-copy\n",
      "  \"\"\"Entry point for launching an IPython kernel.\n"
     ]
    }
   ],
   "source": [
    "submission['label'] = ypredTest"
   ]
  },
  {
   "cell_type": "code",
   "execution_count": 89,
   "id": "254279a0",
   "metadata": {
    "execution": {
     "iopub.execute_input": "2022-09-02T04:18:40.636464Z",
     "iopub.status.busy": "2022-09-02T04:18:40.635981Z",
     "iopub.status.idle": "2022-09-02T04:18:40.644523Z",
     "shell.execute_reply": "2022-09-02T04:18:40.643641Z"
    },
    "papermill": {
     "duration": 0.039783,
     "end_time": "2022-09-02T04:18:40.646650",
     "exception": false,
     "start_time": "2022-09-02T04:18:40.606867",
     "status": "completed"
    },
    "tags": []
   },
   "outputs": [
    {
     "data": {
      "text/plain": [
       "0       1\n",
       "1       1\n",
       "2       1\n",
       "3       1\n",
       "4       1\n",
       "       ..\n",
       "1623    0\n",
       "1624    1\n",
       "1625    0\n",
       "1626    0\n",
       "1627    0\n",
       "Name: label, Length: 1628, dtype: int64"
      ]
     },
     "execution_count": 89,
     "metadata": {},
     "output_type": "execute_result"
    }
   ],
   "source": [
    "submission['label']"
   ]
  },
  {
   "cell_type": "code",
   "execution_count": 90,
   "id": "1f8828c6",
   "metadata": {
    "execution": {
     "iopub.execute_input": "2022-09-02T04:18:40.702518Z",
     "iopub.status.busy": "2022-09-02T04:18:40.701789Z",
     "iopub.status.idle": "2022-09-02T04:18:40.710982Z",
     "shell.execute_reply": "2022-09-02T04:18:40.710090Z"
    },
    "papermill": {
     "duration": 0.039834,
     "end_time": "2022-09-02T04:18:40.713472",
     "exception": false,
     "start_time": "2022-09-02T04:18:40.673638",
     "status": "completed"
    },
    "tags": []
   },
   "outputs": [],
   "source": [
    "\n",
    "  \n",
    "# save the dataframe as a csv file\n",
    "submission.to_csv(\"submission.csv\", index = False)"
   ]
  },
  {
   "cell_type": "code",
   "execution_count": null,
   "id": "45338b48",
   "metadata": {
    "papermill": {
     "duration": 0.026612,
     "end_time": "2022-09-02T04:18:40.767240",
     "exception": false,
     "start_time": "2022-09-02T04:18:40.740628",
     "status": "completed"
    },
    "tags": []
   },
   "outputs": [],
   "source": []
  }
 ],
 "metadata": {
  "kernelspec": {
   "display_name": "Python 3",
   "language": "python",
   "name": "python3"
  },
  "language_info": {
   "codemirror_mode": {
    "name": "ipython",
    "version": 3
   },
   "file_extension": ".py",
   "mimetype": "text/x-python",
   "name": "python",
   "nbconvert_exporter": "python",
   "pygments_lexer": "ipython3",
   "version": "3.7.12"
  },
  "papermill": {
   "default_parameters": {},
   "duration": 27.204146,
   "end_time": "2022-09-02T04:18:41.617721",
   "environment_variables": {},
   "exception": null,
   "input_path": "__notebook__.ipynb",
   "output_path": "__notebook__.ipynb",
   "parameters": {},
   "start_time": "2022-09-02T04:18:14.413575",
   "version": "2.3.4"
  }
 },
 "nbformat": 4,
 "nbformat_minor": 5
}
